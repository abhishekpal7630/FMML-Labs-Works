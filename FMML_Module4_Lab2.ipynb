{
  "nbformat": 4,
  "nbformat_minor": 0,
  "metadata": {
    "colab": {
      "provenance": [],
      "include_colab_link": true
    },
    "kernelspec": {
      "name": "python3",
      "display_name": "Python 3"
    },
    "language_info": {
      "name": "python"
    }
  },
  "cells": [
    {
      "cell_type": "markdown",
      "metadata": {
        "id": "view-in-github",
        "colab_type": "text"
      },
      "source": [
        "<a href=\"https://colab.research.google.com/github/abhishekpal7630/FMML-Labs-Works/blob/main/FMML_Module4_Lab2.ipynb\" target=\"_parent\"><img src=\"https://colab.research.google.com/assets/colab-badge.svg\" alt=\"Open In Colab\"/></a>"
      ]
    },
    {
      "cell_type": "markdown",
      "metadata": {
        "id": "QyMhDmOed0RJ"
      },
      "source": [
        "# FOUNDATIONS OF MODERN MACHINE LEARNING, IIIT Hyderabad\n",
        "# Module 4: Perceptron and Gradient Descent\n",
        "## Lab 2: Introduction to Gradient Descent\n",
        "### Module Coordinator: Jashn Arora\n",
        "\n",
        "Gradient descent is a very important algorithm to understand, as it underpins many of the more advanced algorithms used in Machine Learning and Deep Learning.\n",
        "\n",
        "A brief overview of the algorithm is\n",
        "\n",
        "\n",
        "*   start with a random initialization of the solution.\n",
        "*   incrementally change the solution by moving in the direction of negative gradient of the objective function.\n",
        "*   repeat the previous step until some convergence criteria is met.\n",
        "\n",
        "The key equation for change in weight is:\n",
        "$$w^{k+1} \\leftarrow w^k - \\eta \\Delta J$$\n",
        "\n"
      ]
    },
    {
      "cell_type": "code",
      "metadata": {
        "id": "mx5OzL5jbnkO"
      },
      "source": [
        "# Importing the required libraries\n",
        "\n",
        "import numpy as np\n",
        "import matplotlib.pyplot as plt\n",
        "import random   \n",
        "\n"
      ],
      "execution_count": 312,
      "outputs": []
    },
    {
      "cell_type": "markdown",
      "metadata": {
        "id": "hQpDHGOAh0It"
      },
      "source": [
        "We can start be choosing coefficients for a second degree polynomial equation $(a x^2 + bx + c)$ that will distribute the data we will try to model.\n",
        "\n",
        "Let's define some random x data (inputs) we hope to predict y (outputs) of."
      ]
    },
    {
      "cell_type": "code",
      "metadata": {
        "id": "WnbvlEbWcUtM"
      },
      "source": [],
      "execution_count": 312,
      "outputs": []
    },
    {
      "cell_type": "code",
      "metadata": {
        "id": "8a-Tzv5fclE2"
      },
      "source": [],
      "execution_count": 312,
      "outputs": []
    },
    {
      "cell_type": "markdown",
      "metadata": {
        "id": "bQr81EuciKhB"
      },
      "source": [
        "This is good, but we could improve on this by making things more realistic. You can add noise or **jitter** to the values so they can resemble real-world data.\n"
      ]
    },
    {
      "cell_type": "code",
      "metadata": {
        "id": "ggni_nKPdFZ5"
      },
      "source": [
        "def eval_2nd_degree_jitter(coeffs, x, j):\n",
        "    \"\"\"\n",
        "    Function to return the noisy output of evaluating a second degree polynomial,\n",
        "    given a specific x value. Output values can be within [y − j, y + j].\n",
        "    \n",
        "    Args:\n",
        "        coeffs: List containing the coefficients a, b, and c for the polynomial.\n",
        "        x: The input x value to the polynomial.\n",
        "        j: Jitter parameter, to introduce noise to output y.\n",
        "    \n",
        "    Returns:\n",
        "        y: The corresponding jittered output y value for the second degree polynomial.\n",
        "    \n",
        "    \"\"\"\n",
        "\n",
        "    a = coeffs[0] * (x * x)\n",
        "    b = coeffs[1] * x\n",
        "    c = coeffs[2]\n",
        "    y = a + b + c\n",
        "    \n",
        "    interval = [y - j, y + j]\n",
        "    interval_min = interval[0]\n",
        "    interval_max = interval[1]\n",
        "    jit_val = random.random() * interval_max      # Generate a random number in range 0 to interval max \n",
        "    \n",
        "    while interval_min > jit_val:                 # While the random jitter value is less than the interval min,\n",
        "        jit_val = random.random() * interval_max  # it is not in the right range. Re-roll the generator until it \n",
        "                                                  # give a number greater than the interval min. \n",
        "    \n",
        "    return jit_val\n",
        "\n",
        "xs = []\n",
        "ys = []\n",
        "for x in hundred_xs:\n",
        "    y  = eval_2nd_degree_jitter(coeffs, x, 0.1)\n",
        "    xs.append(x)\n",
        "    ys.append(y)\n"
      ],
      "execution_count": 313,
      "outputs": []
    },
    {
      "cell_type": "code",
      "metadata": {
        "colab": {
          "base_uri": "https://localhost:8080/",
          "height": 390
        },
        "id": "LFYv43vpe5Y4",
        "outputId": "b68d1e85-af6b-4741-f511-c598e037c359"
      },
      "source": [
        "plt.figure(figsize=(12, 6))\n",
        "plt.plot(xs, ys, 'g+')\n",
        "plt.title('Original data with jitter')\n",
        "plt.show()"
      ],
      "execution_count": 314,
      "outputs": [
        {
          "output_type": "display_data",
          "data": {
            "text/plain": [
              "<Figure size 864x432 with 1 Axes>"
            ],
            "image/png": "[encoded data removed]"
          },
          "metadata": {
            "needs_background": "light"
          }
        }
      ]
    },
    {
      "cell_type": "markdown",
      "metadata": {
        "id": "umByA5Ghi_gt"
      },
      "source": [
        "We will now build our predictive model, and optimize it with gradient descent and we will try to get as close to these values as possible.\n",
        "\n",
        "To get a quantifiable measure of how incorrect it is, we calculate the Mean Squared Error loss for the model. This is the mean value of the sum of the squared differences between the actual and predicted outputs.\n",
        "\n",
        "$$ E = \\frac{1}{n} \\sum_{i=0}^n (y_i - \\bar{y_i})^2 $$"
      ]
    },
    {
      "cell_type": "code",
      "metadata": {
        "id": "kGo9VtQDfG6F"
      },
      "source": [],
      "execution_count": 314,
      "outputs": []
    },
    {
      "cell_type": "code",
      "metadata": {
        "id": "yIRquRB3kcZA"
      },
      "source": [],
      "execution_count": 314,
      "outputs": []
    },
    {
      "cell_type": "code",
      "metadata": {
        "id": "bYbwBb4Ckomw"
      },
      "source": [],
      "execution_count": 314,
      "outputs": []
    },
    {
      "cell_type": "markdown",
      "metadata": {
        "id": "IEcvjxbJa8cq"
      },
      "source": [
        "We can see that the loss is quite a large number. Let’s now see if we can improve on this fairly high loss metric by optimizing the model with gradient descent.\n",
        "\n",
        "We wish to improve our model. Therefore we want to alter its coefficients $a$, $b$ and $c$ to decrease the error. Therefore we require knowledge about how each coefficient affects the error. This is achieved by calculating the partial derivative of the loss function with respect to **each** of the individual coefficients."
      ]
    },
    {
      "cell_type": "code",
      "metadata": {
        "id": "YhiloANqkSFc"
      },
      "source": [],
      "execution_count": 314,
      "outputs": []
    },
    {
      "cell_type": "code",
      "metadata": {
        "id": "rN0jR2Dhkpjn"
      },
      "source": [],
      "execution_count": 314,
      "outputs": []
    },
    {
      "cell_type": "code",
      "metadata": {
        "id": "5rjqrqclk4BI"
      },
      "source": [],
      "execution_count": 314,
      "outputs": []
    },
    {
      "cell_type": "markdown",
      "metadata": {
        "id": "lOzSlzJIfvid"
      },
      "source": [
        "We’re almost ready. The last step will be to perform gradient descent iteratively over a number of epochs (cycles or iterations.) With every epoch we hope to see an improvement in the form of lowered loss, and better model-fitting to the original data."
      ]
    },
    {
      "cell_type": "code",
      "metadata": {
        "id": "bBkU4dRnlHKy"
      },
      "source": [],
      "execution_count": 314,
      "outputs": []
    },
    {
      "cell_type": "code",
      "metadata": {
        "id": "nj6K6SXol_bi"
      },
      "source": [],
      "execution_count": 314,
      "outputs": []
    },
    {
      "cell_type": "code",
      "metadata": {
        "id": "Brk2qRFlmAQM"
      },
      "source": [],
      "execution_count": 314,
      "outputs": []
    },
    {
      "cell_type": "markdown",
      "metadata": {
        "id": "gS2KZ6SxfnAI"
      },
      "source": [
        "This trained model is showing vast improvements after it’s full training cycle. We can examine further by inspecting its final predicted coefficients $a$, $b$ and $c$."
      ]
    },
    {
      "cell_type": "code",
      "metadata": {
        "id": "efY8ehhvmCRz"
      },
      "source": [],
      "execution_count": 314,
      "outputs": []
    },
    {
      "cell_type": "markdown",
      "metadata": {
        "id": "s8PuwB87fjP5"
      },
      "source": [
        "Not too far off! A big improvement over the initial random model. Looking at the plot of the loss reduction over training offers further insights.\n"
      ]
    },
    {
      "cell_type": "code",
      "metadata": {
        "id": "HnswAURtmFBG"
      },
      "source": [],
      "execution_count": 314,
      "outputs": []
    },
    {
      "cell_type": "markdown",
      "metadata": {
        "id": "lu7fnsphdJpo"
      },
      "source": [
        "We observe that the model loss reached close to zero, to give us our more accurate coefficients. We can also see there was no major improvement in loss after about 100 epochs. An alternative strategy would be to add some kind of condition to the training step that stops training when a certain minimum loss threshold has been reached. This would prevent excessive training and potential over-fitting for the model."
      ]
    },
    {
      "cell_type": "markdown",
      "metadata": {
        "id": "V3oxAVdtePYa"
      },
      "source": [
        "# Things to try\n",
        "\n",
        "\n",
        "\n",
        "1.   Change the coefficients array and try a different polynomial instead of our $x^2$.\n",
        "2.   Increase/decrease the learning rate to see how many iterations will be take to coverge. Does it even converge on a huge learning rate?\n",
        "3. Take a degree 5 polynomial with 5 roots and try different initializations, instead of random ones. Does it converge on different values for different initializations? Why does initialization not matter in our case of $x^2$?\n",
        "4. Can you modify the algorithm to find a maxima of a function, instead of a minima?\n",
        "\n"
      ]
    },
    {
      "cell_type": "code",
      "source": [],
      "metadata": {
        "id": "NwBIE88HZlXz"
      },
      "execution_count": 314,
      "outputs": []
    },
    {
      "cell_type": "markdown",
      "source": [
        "2) At a very huge learing rate it does not converge, also updated_model_loss increases significantly if learning rate is increased.\n",
        "\n",
        "1) Using the same loss functions we cannot correctly predict the values of cubic or higher degree polynomials.\n",
        "\n",
        "3) Initialization really does not mate because it can be shown that using gradient descent, no matter what we initialize as our initial coefficients , we would finally reach to the closest coefficients w.r.t original coefficients.\n",
        "\n",
        "4)maxima can be simply be found out by changing $$w^{t+1} \\leftarrow w^{t} -\\eta \\Delta J(X)$$ \n",
        "\n",
        "to\n",
        "$$w^{t+1} \\leftarrow w^{t} +\\eta \\Delta J(X)$$ \n",
        "\n"
      ],
      "metadata": {
        "id": "pxBQtUzUbm7b"
      }
    },
    {
      "cell_type": "code",
      "source": [
        "coeffs = [2, -5, 4, 5]\n"
      ],
      "metadata": {
        "id": "X2BLCpylfykL"
      },
      "execution_count": 315,
      "outputs": []
    },
    {
      "cell_type": "code",
      "source": [
        "def eval_2nd_degree(coeffs, x):\n",
        "    \"\"\"\n",
        "    Function to return the output of evaluating a second degree polynomial,\n",
        "    given a specific x value.\n",
        "    \n",
        "    Args:\n",
        "        coeffs: List containing the coefficients a,b, and c for the polynomial.\n",
        "        x: The input x value to the polynomial.\n",
        "    \n",
        "    Returns:\n",
        "        y: The corresponding output y value for the second degree polynomial.\n",
        "    \n",
        "    \"\"\"\n",
        "    a = (coeffs[0]*(x*x*x))\n",
        "    b = coeffs[1]*(x*x)\n",
        "    c = coeffs[2]*x\n",
        "    d = coeffs[3]\n",
        "    y = a+b+c+d\n",
        "    return y"
      ],
      "metadata": {
        "id": "f4RkgoXWf5q2"
      },
      "execution_count": 316,
      "outputs": []
    },
    {
      "cell_type": "code",
      "source": [
        "coeffs = [2, -5, 4, 5]\n",
        "x=3\n",
        "eval_2nd_degree(coeffs, x)\n"
      ],
      "metadata": {
        "id": "SsSv1QNuf8Rt",
        "outputId": "887f1d26-d04c-4dcd-d86b-f1d41f16cb21",
        "colab": {
          "base_uri": "https://localhost:8080/"
        }
      },
      "execution_count": 317,
      "outputs": [
        {
          "output_type": "execute_result",
          "data": {
            "text/plain": [
              "26"
            ]
          },
          "metadata": {},
          "execution_count": 317
        }
      ]
    },
    {
      "cell_type": "code",
      "source": [
        "import numpy as np\n",
        "import matplotlib.pyplot as plt\n",
        "\n",
        "hundred_xs=np.random.uniform(-10,10,100)\n",
        "print(hundred_xs)\n",
        "\n",
        "x_y_pairs = []\n",
        "for x in hundred_xs:\n",
        "    y  = eval_2nd_degree(coeffs, x)\n",
        "    x_y_pairs.append((x,y))\n",
        "    \n",
        "xs = []\n",
        "ys = []\n",
        "for a,b in x_y_pairs:\n",
        "    xs.append(a)\n",
        "    ys.append(b)\n",
        "    \n",
        "plt.figure(figsize=(20,10))\n",
        "plt.plot(xs, ys, 'g+')\n",
        "plt.title('Original data')\n",
        "plt.show()"
      ],
      "metadata": {
        "id": "UOwpiUb1gHwu",
        "outputId": "f64c786f-30bb-4049-ea56-a10be75d99d2",
        "colab": {
          "base_uri": "https://localhost:8080/",
          "height": 902
        }
      },
      "execution_count": 318,
      "outputs": [
        {
          "output_type": "stream",
          "name": "stdout",
          "text": [
            "[ 3.4393475   3.85698029  6.99148689 -9.99505925  8.6416563   6.48117777\n",
            " -4.40080001  6.5295461   7.52178233 -1.78774552 -7.23539378 -1.19499943\n",
            "  1.0572212   6.60953711  5.76791108  6.70110335  8.55525443 -2.21432853\n",
            "  9.1941246  -6.8726112   3.21457415  5.7769167   1.44522608  8.48298792\n",
            " -2.48688457  2.95897897  9.3290511  -8.06225614  2.65171451  0.92290057\n",
            " -8.14571126  8.05682918 -4.68687939 -5.47435911  9.96075038 -8.6336684\n",
            " -6.23426776 -5.69483946  8.08587076  0.88992234  3.31086883  1.2287288\n",
            "  9.12351424 -0.46998235  6.72248001  5.67788263 -4.42210087  7.77875328\n",
            "  8.31901539 -5.95714801 -1.98897262 -3.02153246 -5.61374191 -6.98359939\n",
            " -6.07164619 -1.69546333 -4.72773104 -3.56682229  8.38615706 -5.99526554\n",
            "  6.04370738 -7.4880647   5.13758068  4.86449731  7.34372405  5.99031729\n",
            " -5.23887874  4.03913773 -4.83387321  3.66155352 -0.91636171 -0.5415634\n",
            "  0.51830579 -6.13739766 -4.67546452 -6.31962167 -5.73902528 -9.1711864\n",
            " -2.48458386 -8.85895478  8.69989489 -3.99054233  4.05951109 -1.48968344\n",
            " -1.04541214  7.53532398  7.4113581   5.57753307 -6.17870174  5.59289179\n",
            " -6.00786983  3.88995751 -9.40795665  4.80124788  1.04872729 -3.2717174\n",
            "  5.06819025  1.86823435  1.02131588  5.56886667]\n"
          ]
        },
        {
          "output_type": "display_data",
          "data": {
            "text/plain": [
              "<Figure size 1440x720 with 1 Axes>"
            ],
            "image/png": "[encoded data removed]"
          },
          "metadata": {
            "needs_background": "light"
          }
        }
      ]
    },
    {
      "cell_type": "code",
      "source": [
        "rand_coeffs = (random.randrange(-50, 50), random.randrange(-50, 50), random.randrange(-50,50),random.randrange(-50,50))\n",
        "\n",
        "rand_coeffs"
      ],
      "metadata": {
        "id": "1TNBjpLhgQ4t",
        "outputId": "beb0585e-a737-4888-cb2e-f62da451e00f",
        "colab": {
          "base_uri": "https://localhost:8080/"
        }
      },
      "execution_count": 319,
      "outputs": [
        {
          "output_type": "execute_result",
          "data": {
            "text/plain": [
              "(-18, 47, 11, 8)"
            ]
          },
          "metadata": {},
          "execution_count": 319
        }
      ]
    },
    {
      "cell_type": "code",
      "source": [
        "y_bar = eval_2nd_degree(rand_coeffs, hundred_xs)\n",
        "\n",
        "plt.figure(figsize=(20,10))\n",
        "plt.plot(xs, ys, 'g+', label = 'original')\n",
        "plt.plot(xs, y_bar, 'ro', label='prediction')\n",
        "plt.title('Original data vs first prediction')\n",
        "plt.legend(loc=\"lower right\")\n",
        "plt.show()"
      ],
      "metadata": {
        "id": "ddQ6fuTBgWAy",
        "outputId": "0f70a09c-5cf7-4ba7-f316-1fa8fe7c470e",
        "colab": {
          "base_uri": "https://localhost:8080/",
          "height": 607
        }
      },
      "execution_count": 320,
      "outputs": [
        {
          "output_type": "display_data",
          "data": {
            "text/plain": [
              "<Figure size 1440x720 with 1 Axes>"
            ],
            "image/png": "[encoded data removed]"
          },
          "metadata": {
            "needs_background": "light"
          }
        }
      ]
    },
    {
      "cell_type": "code",
      "source": [
        "def loss_mse(ys, y_bar):\n",
        "    \"\"\"\n",
        "    Calculates MSE loss.\n",
        "    \n",
        "    Args:\n",
        "        ys: training data labels\n",
        "        y_bar: prediction labels\n",
        "    \n",
        "    Returns: Calculated MSE loss.\n",
        "    \"\"\"\n",
        "    return sum((ys - y_bar)*(ys - y_bar)) / len(ys)\n",
        "initial_model_loss = loss_mse(ys, y_bar)\n",
        "initial_model_loss"
      ],
      "metadata": {
        "id": "Rs0s41JBgcBJ",
        "outputId": "9ba38e59-b269-4746-b109-151850fa3dbb",
        "colab": {
          "base_uri": "https://localhost:8080/"
        }
      },
      "execution_count": 321,
      "outputs": [
        {
          "output_type": "execute_result",
          "data": {
            "text/plain": [
              "47825396.521406166"
            ]
          },
          "metadata": {},
          "execution_count": 321
        }
      ]
    },
    {
      "cell_type": "code",
      "source": [
        "def calc_gradient_2nd_poly_for_GD(coeffs, inputs_x, outputs_y, lr): \n",
        "    \"\"\"\n",
        "    calculates the gradient for a second degree polynomial.\n",
        "    \n",
        "    Args:\n",
        "        coeffs: a,b and c, for a 2nd degree polynomial [ y = ax^2 + bx + c ]\n",
        "        inputs_x: x input datapoints\n",
        "        outputs_y: actual y output points\n",
        "        lr: learning rate\n",
        "        \n",
        "    Returns: Calculated gradients for the 2nd degree polynomial, as a tuple of its parts for a,b,c respectively.\n",
        "    \n",
        "    \"\"\"\n",
        "    a_s = []\n",
        "    b_s = []\n",
        "    c_s = []\n",
        "    d_s = []    \n",
        "    y_bars = eval_2nd_degree(coeffs, inputs_x)\n",
        "\n",
        "    for x,y,y_bar in list(zip(inputs_x, outputs_y, y_bars)):    # take tuple of (x datapoint, actual y label, predicted y label)\n",
        "        x_squared = x**2\n",
        "        x_cube=x**3        \n",
        "        partial_a = x_cube * (y - y_bar)\n",
        "        a_s.append(partial_a)\n",
        "        partial_b = x_squared * (y-y_bar)\n",
        "        b_s.append(partial_b)\n",
        "        partial_c = x*(y-y_bar)\n",
        "        c_s.append(partial_c)\n",
        "        partial_d = (y-y_bar)\n",
        "        d_s.append(partial_d)\n",
        "    \n",
        "    num = [i for i in y_bars]\n",
        "    n = len(num)\n",
        "    \n",
        "    gradient_a = (-2 / n) * sum(a_s)\n",
        "    gradient_b = (-2 / n) * sum(b_s)\n",
        "    gradient_c = (-2 / n) * sum(c_s)\n",
        "    gradient_d = (-2 / n) * sum(d_s)\n",
        "\n",
        "\n",
        "    a_new = coeffs[0] + lr * gradient_a\n",
        "    b_new = coeffs[1] + lr * gradient_b\n",
        "    c_new = coeffs[2] + lr * gradient_c\n",
        "    d_new = coeffs[3] + lr * gradient_d\n",
        "    new_model_coeffs = (a_new, b_new, c_new,d_new)\n",
        "    \n",
        "    #update with these new coeffs:\n",
        "    new_y_bar = eval_2nd_degree(new_model_coeffs, inputs_x)\n",
        "    \n",
        "    updated_model_loss = loss_mse(outputs_y, new_y_bar)\n",
        "    return updated_model_loss, new_model_coeffs, new_y_bar"
      ],
      "metadata": {
        "id": "-iTt1gM-g5Zu"
      },
      "execution_count": 322,
      "outputs": []
    },
    {
      "cell_type": "code",
      "source": [
        "def gradient_descent(epochs, lr):\n",
        "    \"\"\"\n",
        "    Perform gradient descent for a second degree polynomial.\n",
        "    \n",
        "    Args:\n",
        "        epochs: number of iterations to perform of finding new coefficients and updatingt loss. \n",
        "        lr: specified learning rate\n",
        "        \n",
        "    Returns: Tuple containing (updated_model_loss, new_model_coeffs, new_y_bar predictions, saved loss updates)\n",
        "    \n",
        "    \"\"\"\n",
        "    losses = []\n",
        "    rand_coeffs_to_test = rand_coeffs\n",
        "    for i in range(epochs):\n",
        "        loss = calc_gradient_2nd_poly_for_GD(rand_coeffs_to_test, hundred_xs, ys, lr)\n",
        "        rand_coeffs_to_test = loss[1]\n",
        "        losses.append(loss[0])\n",
        "    print(losses)\n",
        "    return loss[0], loss[1], loss[2], losses  #(updated_model_loss, new_model_coeffs, new_y_bar, saved loss updates)"
      ],
      "metadata": {
        "id": "KWDlRdteg7IW"
      },
      "execution_count": 323,
      "outputs": []
    },
    {
      "cell_type": "code",
      "source": [
        "GD = gradient_descent(4, 0.0001)\n",
        "print(GD[2])\n",
        "\n",
        "plt.figure(figsize=(20,10))\n",
        "plt.plot(xs,ys,'gx',label='original values')\n",
        "plt.plot(xs, GD[2], 'b.', label = 'final_prediction')\n",
        "plt.title('Original vs Final prediction after Gradient Descent')\n",
        "plt.legend(loc=\"lower right\")\n",
        "plt.show()"
      ],
      "metadata": {
        "id": "VInTXeyLhA0o",
        "outputId": "d39ba185-bfc2-437f-883d-761a243203e6",
        "colab": {
          "base_uri": "https://localhost:8080/",
          "height": 1000
        }
      },
      "execution_count": 324,
      "outputs": [
        {
          "output_type": "stream",
          "name": "stdout",
          "text": [
            "[28636989024.228374, 19121316467250.477, 1.2771641381041908e+16, 8.530530200828046e+18]\n",
            "[-3.39900570e+08 -4.78862329e+08 -2.84188216e+09  8.25143029e+09\n",
            " -5.36221741e+09 -2.26466436e+09  7.02498227e+08 -2.31566786e+09\n",
            " -3.53778630e+09  4.68826337e+07  3.12752603e+09  1.39841850e+07\n",
            " -1.01566140e+07 -2.40168774e+09 -1.59715273e+09 -2.50274016e+09\n",
            " -5.20315498e+09  8.91869362e+07 -6.45652094e+09  2.67986734e+09\n",
            " -2.77712114e+08 -1.60463233e+09 -2.56235219e+07 -5.07255664e+09\n",
            "  1.26418915e+08 -2.16798242e+08 -6.74466597e+09  4.32827901e+09\n",
            " -1.56249302e+08 -6.80749590e+06  4.46420760e+09 -4.34661009e+09\n",
            "  8.48816908e+08  1.35338058e+09 -8.20806565e+09  5.31628979e+09\n",
            "  1.99972719e+09  1.52379160e+09 -4.39372650e+09 -6.11753804e+06\n",
            " -3.03330378e+08 -1.58380395e+07 -6.30905414e+09  8.69652423e+05\n",
            " -2.52673256e+09 -1.52365357e+09  7.12762832e+08 -3.91240598e+09\n",
            " -4.78437373e+09  1.74447096e+09  6.45974063e+07  2.26970840e+08\n",
            "  1.45954161e+09  2.81194558e+09  1.84712284e+09  3.99807697e+07\n",
            "  8.71236567e+08  3.73669101e+08 -4.90101790e+09  1.77821068e+09\n",
            " -1.83695010e+09  3.46709718e+09 -1.12940460e+09 -9.59036252e+08\n",
            " -3.29275313e+09 -1.78877543e+09  1.18594646e+09 -5.49754176e+08\n",
            "  9.31326284e+08 -4.09886050e+08  6.31050231e+06  1.31930204e+06\n",
            " -1.27731343e+06  1.90785241e+09  8.42621860e+08  2.08308448e+09\n",
            "  1.55957861e+09  6.37328750e+09  1.26067750e+08  5.74378105e+09\n",
            " -5.47124108e+09  5.23555154e+08 -5.58092550e+08  2.71040407e+07\n",
            "  9.36379853e+06 -3.55690349e+09 -3.38444740e+09 -1.44442613e+09\n",
            "  1.94667437e+09 -1.45636962e+09  1.78946234e+09 -4.91215063e+08\n",
            "  6.88016842e+09 -9.22189787e+08 -9.91779206e+06  2.88262961e+08\n",
            " -1.08434668e+09 -5.49774774e+07 -9.17277022e+06 -1.43771574e+09]\n"
          ]
        },
        {
          "output_type": "display_data",
          "data": {
            "text/plain": [
              "<Figure size 1440x720 with 1 Axes>"
            ],
            "image/png": "[encoded data removed]"
          },
          "metadata": {
            "needs_background": "light"
          }
        }
      ]
    },
    {
      "cell_type": "code",
      "source": [
        "print(f\"Final Coefficients predicted: {GD[1]}\")\n",
        "print(f\"Original Coefficients: {coeffs}\")"
      ],
      "metadata": {
        "id": "OWQR-W3DhG9f",
        "outputId": "5ac8b218-0873-4c4a-ae32-6d693a22f91a",
        "colab": {
          "base_uri": "https://localhost:8080/"
        }
      },
      "execution_count": 325,
      "outputs": [
        {
          "output_type": "stream",
          "name": "stdout",
          "text": [
            "Final Coefficients predicted: (-8283281.821802227, -208491.22793634338, -125228.5405574557, -3048.8290580321273)\n",
            "Original Coefficients: [2, -5, 4, 5]\n"
          ]
        }
      ]
    },
    {
      "cell_type": "code",
      "source": [
        "plt.plot(GD[3],'b',label=\"Losses over 100 epochs\")"
      ],
      "metadata": {
        "id": "c_3lkR82qwpR",
        "outputId": "759606b3-a376-429b-a779-365ce17e2759",
        "colab": {
          "base_uri": "https://localhost:8080/",
          "height": 293
        }
      },
      "execution_count": 326,
      "outputs": [
        {
          "output_type": "execute_result",
          "data": {
            "text/plain": [
              "[<matplotlib.lines.Line2D at 0x7f756c6dba60>]"
            ]
          },
          "metadata": {},
          "execution_count": 326
        },
        {
          "output_type": "display_data",
          "data": {
            "text/plain": [
              "<Figure size 432x288 with 1 Axes>"
            ],
            "image/png": "[encoded data removed]"
          },
          "metadata": {
            "needs_background": "light"
          }
        }
      ]
    },
    {
      "cell_type": "code",
      "source": [
        "def eval_2nd_degree(coeffs, x):\n",
        "    \"\"\"\n",
        "    Function to return the output of evaluating a second degree polynomial,\n",
        "    given a specific x value.\n",
        "    \n",
        "    Args:\n",
        "        coeffs: List containing the coefficients a,b, and c for the polynomial.\n",
        "        x: The input x value to the polynomial.\n",
        "    \n",
        "    Returns:\n",
        "        y: The corresponding output y value for the second degree polynomial.\n",
        "    \n",
        "    \"\"\"\n",
        "    a = (coeffs[0]*(x*x))\n",
        "    b = coeffs[1]*x\n",
        "    c = coeffs[2]\n",
        "    y = a+b+c\n",
        "    return y"
      ],
      "metadata": {
        "id": "Vt2icHZzu6fp"
      },
      "execution_count": 327,
      "outputs": []
    },
    {
      "cell_type": "code",
      "source": [
        "coeffs = [2, -5, 4]\n",
        "x=3\n",
        "eval_2nd_degree(coeffs, x)"
      ],
      "metadata": {
        "id": "jqcDtczsvBsP",
        "outputId": "e12126b9-1011-4849-b57c-696bcfc7e7ff",
        "colab": {
          "base_uri": "https://localhost:8080/"
        }
      },
      "execution_count": 328,
      "outputs": [
        {
          "output_type": "execute_result",
          "data": {
            "text/plain": [
              "7"
            ]
          },
          "metadata": {},
          "execution_count": 328
        }
      ]
    },
    {
      "cell_type": "code",
      "source": [
        "import numpy as np\n",
        "import matplotlib.pyplot as plt\n",
        "\n",
        "hundred_xs=np.random.uniform(-10,10,100)\n",
        "print(hundred_xs)\n",
        "\n",
        "x_y_pairs = []\n",
        "for x in hundred_xs:\n",
        "    y  = eval_2nd_degree(coeffs, x)\n",
        "    x_y_pairs.append((x,y))\n",
        "    \n",
        "xs = []\n",
        "ys = []\n",
        "for a,b in x_y_pairs:\n",
        "    xs.append(a)\n",
        "    ys.append(b)\n",
        "    \n",
        "plt.figure(figsize=(20,10))\n",
        "plt.plot(xs, ys, 'g+')\n",
        "plt.title('Original data')\n",
        "plt.show()"
      ],
      "metadata": {
        "id": "8C2WbgEdvN0d",
        "outputId": "959c1750-b729-4a66-f027-6566999e5d36",
        "colab": {
          "base_uri": "https://localhost:8080/",
          "height": 902
        }
      },
      "execution_count": 329,
      "outputs": [
        {
          "output_type": "stream",
          "name": "stdout",
          "text": [
            "[-8.05395611  3.38054032  8.66956864  0.85209105  4.68040627  7.72777891\n",
            "  2.80101997 -5.14204376  0.71422632  9.85726475 -7.06047606 -8.07534014\n",
            "  1.67138101 -0.16534708 -6.6797608   1.56150148 -9.29754466  8.77738572\n",
            " -0.88191319  0.21776452 -2.6812864   8.02427598 -5.94182352  4.54318403\n",
            "  2.84054231  2.69552335  9.04193556  4.13832031 -1.16090218 -5.17767753\n",
            " -4.28225143  9.31238142  0.57299382  7.72716742 -2.3000603   8.69034478\n",
            "  3.30534185  5.67277467 -6.70817196  8.12070085  2.02409517 -9.98472966\n",
            "  8.11767038 -2.83885984 -5.216534    3.05021778 -8.22145641  3.3428359\n",
            " -7.94098674 -9.15568381  3.6646621   1.90302272  7.15254757 -5.43842463\n",
            " -9.32969052 -1.31081044  3.85043316 -0.39900026 -0.85601966 -1.81446622\n",
            "  2.59748129  9.39111881 -3.7045774  -2.21207013 -3.46496484  5.05998286\n",
            "  6.19937185  1.48845875 -0.61594373 -4.37648687 -2.76024244  1.06622101\n",
            " -3.60592926  5.01597661 -8.4718734   4.28749272  2.92766632 -4.53160253\n",
            "  8.78116363  4.32625789  1.47074608  7.56596048  5.30826284 -5.05412244\n",
            "  9.569704    7.47831135 -6.35522073 -2.05363053 -0.12513224 -9.28348177\n",
            "  4.14767192  9.35527823  3.79498641  3.26158026 -7.1935644   6.63609768\n",
            " -0.02121428  2.86594475 -9.11813217 -3.5214084 ]\n"
          ]
        },
        {
          "output_type": "display_data",
          "data": {
            "text/plain": [
              "<Figure size 1440x720 with 1 Axes>"
            ],
            "image/png": "[encoded data removed]"
          },
          "metadata": {
            "needs_background": "light"
          }
        }
      ]
    },
    {
      "cell_type": "code",
      "source": [
        "rand_coeffs = (random.randrange(-10, 10), random.randrange(-10, 10), random.randrange(-10,10))\n",
        "\n",
        "rand_coeffs"
      ],
      "metadata": {
        "id": "CzZq2b0TvWNP",
        "outputId": "c7675aec-5238-48d6-9def-3ca503675916",
        "colab": {
          "base_uri": "https://localhost:8080/"
        }
      },
      "execution_count": 330,
      "outputs": [
        {
          "output_type": "execute_result",
          "data": {
            "text/plain": [
              "(7, -10, 9)"
            ]
          },
          "metadata": {},
          "execution_count": 330
        }
      ]
    },
    {
      "cell_type": "code",
      "source": [
        "y_bar = eval_2nd_degree(rand_coeffs, hundred_xs)\n",
        "\n",
        "plt.figure(figsize=(20,10))\n",
        "plt.plot(xs, ys, 'g+', label = 'original')\n",
        "plt.plot(xs, y_bar, 'ro', label='prediction')\n",
        "plt.title('Original data vs first prediction')\n",
        "plt.legend(loc=\"lower right\")\n",
        "plt.show()"
      ],
      "metadata": {
        "id": "WbUCzvI4vX3q",
        "outputId": "3a5c604b-72e7-48bb-e036-63b026bdb90a",
        "colab": {
          "base_uri": "https://localhost:8080/",
          "height": 607
        }
      },
      "execution_count": 331,
      "outputs": [
        {
          "output_type": "display_data",
          "data": {
            "text/plain": [
              "<Figure size 1440x720 with 1 Axes>"
            ],
            "image/png": "[encoded data removed]"
          },
          "metadata": {
            "needs_background": "light"
          }
        }
      ]
    },
    {
      "cell_type": "code",
      "source": [
        "def loss_mse(ys, y_bar):\n",
        "    \"\"\"\n",
        "    Calculates MSE loss.\n",
        "    \n",
        "    Args:\n",
        "        ys: training data labels\n",
        "        y_bar: prediction labels\n",
        "    \n",
        "    Returns: Calculated MSE loss.\n",
        "    \"\"\"\n",
        "    return sum((ys - y_bar)*(ys - y_bar)) / len(ys)\n",
        "  \n",
        "initial_model_loss = loss_mse(ys, y_bar)\n",
        "  \n",
        "initial_model_loss"
      ],
      "metadata": {
        "id": "j7VvfKZbvceS",
        "outputId": "a5e91628-2d1c-4e79-a9c5-3ccaa94740a3",
        "colab": {
          "base_uri": "https://localhost:8080/"
        }
      },
      "execution_count": 332,
      "outputs": [
        {
          "output_type": "execute_result",
          "data": {
            "text/plain": [
              "50056.70716183607"
            ]
          },
          "metadata": {},
          "execution_count": 332
        }
      ]
    },
    {
      "cell_type": "code",
      "source": [
        "def calc_gradient_2nd_poly_for_GD(coeffs, inputs_x, outputs_y, lr): \n",
        "    \"\"\"\n",
        "    calculates the gradient for a second degree polynomial.\n",
        "    \n",
        "    Args:\n",
        "        coeffs: a,b and c, for a 2nd degree polynomial [ y = ax^2 + bx + c ]\n",
        "        inputs_x: x input datapoints\n",
        "        outputs_y: actual y output points\n",
        "        lr: learning rate\n",
        "        \n",
        "    Returns: Calculated gradients for the 2nd degree polynomial, as a tuple of its parts for a,b,c respectively.\n",
        "    \n",
        "    \"\"\"\n",
        "    a_s = []\n",
        "    b_s = []\n",
        "    c_s = []\n",
        "        \n",
        "    y_bars = eval_2nd_degree(coeffs, inputs_x)\n",
        "\n",
        "    for x,y,y_bar in list(zip(inputs_x, outputs_y, y_bars)):    # take tuple of (x datapoint, actual y label, predicted y label)\n",
        "        x_squared = x**2        \n",
        "        partial_a = x_squared * (y - y_bar)\n",
        "        a_s.append(partial_a)\n",
        "        partial_b = x * (y-y_bar)\n",
        "        b_s.append(partial_b)\n",
        "        partial_c = (y-y_bar)\n",
        "        c_s.append(partial_c)\n",
        "    \n",
        "    num = [i for i in y_bars]\n",
        "    n = len(num)\n",
        "    \n",
        "    gradient_a = (-2 / n) * sum(a_s)\n",
        "    gradient_b = (-2 / n) * sum(b_s)\n",
        "    gradient_c = (-2 / n) * sum(c_s)\n",
        "\n",
        "    \"\"\"\n",
        "    by simply changing the sign  + from - we can find the maxima of the function, or the maxima of loss function\n",
        "    \"\"\"\n",
        "    a_new = coeffs[0] + lr * gradient_a\n",
        "    b_new = coeffs[1] + lr * gradient_b\n",
        "    c_new = coeffs[2] + lr * gradient_c\n",
        "    \n",
        "    new_model_coeffs = (a_new, b_new, c_new)\n",
        "    \n",
        "    #update with these new coeffs:\n",
        "    new_y_bar = eval_2nd_degree(new_model_coeffs, inputs_x)\n",
        "    \n",
        "    updated_model_loss = loss_mse(outputs_y, new_y_bar)\n",
        "    return updated_model_loss, new_model_coeffs, new_y_bar\n",
        "    "
      ],
      "metadata": {
        "id": "gigIV3Qmvjv6"
      },
      "execution_count": 333,
      "outputs": []
    },
    {
      "cell_type": "code",
      "source": [
        "def gradient_descent(epochs, lr):\n",
        "    \"\"\"\n",
        "    Perform gradient descent for a second degree polynomial.\n",
        "    \n",
        "    Args:\n",
        "        epochs: number of iterations to perform of finding new coefficients and updatingt loss. \n",
        "        lr: specified learning rate\n",
        "        \n",
        "    Returns: Tuple containing (updated_model_loss, new_model_coeffs, new_y_bar predictions, saved loss updates)\n",
        "    \n",
        "    \"\"\"\n",
        "    losses = []\n",
        "    rand_coeffs_to_test = rand_coeffs\n",
        "    for i in range(epochs):\n",
        "        loss = calc_gradient_2nd_poly_for_GD(rand_coeffs_to_test, hundred_xs, ys, lr)\n",
        "        rand_coeffs_to_test = loss[1]\n",
        "        losses.append(loss[0])\n",
        "    print(losses)\n",
        "    return loss[0], loss[1], loss[2], losses  #(updated_model_loss, new_model_coeffs, new_y_bar, saved_loss_updates"
      ],
      "metadata": {
        "id": "dgNahkfsvnFo"
      },
      "execution_count": 334,
      "outputs": []
    },
    {
      "cell_type": "code",
      "source": [
        "GD = gradient_descent(1500, 0.0001)\n",
        "\n",
        "plt.figure(figsize=(20,10))\n",
        "plt.plot(xs, ys, 'g+', label = 'original')\n",
        "plt.plot(xs, GD[2], 'b.', label = 'final_prediction')\n",
        "plt.title('Original vs Final prediction after Gradient Descent')\n",
        "plt.legend(loc=\"lower right\")\n",
        "plt.show()\n"
      ],
      "metadata": {
        "id": "EkAynpr3vr4w",
        "outputId": "85a3eebd-4f62-4189-ddf8-1a752f8ba4c0",
        "colab": {
          "base_uri": "https://localhost:8080/",
          "height": 714
        }
      },
      "execution_count": 335,
      "outputs": [
        {
          "output_type": "stream",
          "name": "stderr",
          "text": [
            "<ipython-input-332-f7016c279d1a>:11: RuntimeWarning: overflow encountered in double_scalars\n",
            "  return sum((ys - y_bar)*(ys - y_bar)) / len(ys)\n",
            "<ipython-input-332-f7016c279d1a>:11: RuntimeWarning: overflow encountered in multiply\n",
            "  return sum((ys - y_bar)*(ys - y_bar)) / len(ys)\n"
          ]
        },
        {
          "output_type": "stream",
          "name": "stdout",
          "text": [
            "[96345.92762892341, 186133.88450387362, 360305.86755582795, 698176.1400084641, 1353608.168264823, 2625085.04282344, 5091640.615061708, 9876555.272224143, 19158905.11881052, 37165927.38322912, 72098131.69966763, 139863865.44334117, 271324078.42258066, 526346599.81123483, 1021070336.2955534, 1980795684.3072684, 3842587793.509072, 7454318873.96133, 14460794706.102453, 28052809873.437576, 54420256334.76966, 105571040415.29074, 204799561318.45322, 397295131781.6004, 770721484525.9792, 1495139405368.1362, 2900453519342.725, 5626652999125.138, 10915266789933.105, 21174763952844.45, 41077386114212.63, 79686916640746.77, 154586386438908.62, 299885500402257.06, 581754418505775.9, 1128558076323619.0, 2189314410206331.5, 4247098742452226.5, 8239039419852790.0, 1.5983092147911506e+16, 3.10059488237288e+16, 6.014911592593986e+16, 1.1668458098929078e+17, 2.2635896190744694e+17, 4.3911868390322963e+17, 8.518559058940484e+17, 1.6525338388163126e+18, 3.2057864123942994e+18, 6.218974934427513e+18, 1.2064325023497765e+19, 2.3403847065994457e+19, 4.540163303140629e+19, 8.807561748741462e+19, 1.7085981005183926e+20, 3.314546695641623e+20, 6.429961378428061e+20, 1.247362222485543e+21, 2.4197851627912084e+21, 4.694193978712019e+21, 9.106369213520744e+21, 1.7665644118889099e+22, 3.4269968064976456e+22, 6.6481057994298605e+22, 1.2896805341812416e+23, 2.5018793780156987e+23, 4.853450336143922e+23, 9.415314092439727e+23, 1.8264973023237976e+24, 3.5432619269440133e+24, 6.873651040687568e+24, 1.3334345471291444e+25, 2.5867587413917502e+25, 5.0181096631798654e+25, 9.734740309856193e+25, 1.8884634904588446e+26, 3.6634714859164935e+26, 7.106848184214698e+26, 1.378672969276307e+27, 2.67451774252749e+27, 5.188355262270154e+27, 1.0065003458188758e+28, 1.9525319584423808e+28, 3.787759303388147e+28, 7.347956830293721e+28, 1.4254461610473492e+29, 2.7652540767082924e+29, 5.364376654628226e+29, 1.0406471193770158e+30, 2.0187740287277295e+30, 3.9162637393407275e+30, 7.59724538646892e+30, 1.4738061914068048e+31, 2.8590687536533448e+31, 5.5463697912099485e+31, 1.0759523646130592e+32, 2.0872634434709875e+32, 4.049127847790114e+32, 7.854991366343691e+32, 1.5238068958234626e+33, 2.956066209961941e+33, 5.734537270850566e+33, 1.1124553841166403e+34, 2.158076446622417e+34, 4.186499536037235e+34, 8.121481698514877e+34, 1.5755039362012116e+35, 3.0563544253746427e+35, 5.92908856580233e+35, 1.1501968138665333e+36, 2.23129186880294e+36, 4.3285317293217916e+36, 8.397013045988125e+36, 1.6289548628431203e+37, 3.1600450429787288e+37, 6.130240254923597e+37, 1.1892186684675262e+38, 2.3069912150601386e+38, 4.475382541062075e+38, 8.681892136429796e+38, 1.684219178517728e+39, 3.2672534934918076e+39, 6.338216264779379e+39, 1.2295643879220347e+40, 2.3852587556015057e+40, 4.62721544887034e+40, 8.976436103623042e+40, 1.7413584046988503e+41, 3.3780991237618515e+41, 6.55324811892133e+41, 1.2712788859884686e+42, 2.4661816196059185e+42, 4.78419947653975e+42, 9.280972840508269e+42, 1.800436150052666e+43, 3.492705329626786e+43, 6.775575195624963e+43, 1.3144086001802449e+44, 2.5498498922178016e+44, 4.946509382205465e+44, 9.595841364200863e+44, 1.861518181248313e+45, 3.611199693281517e+45, 7.00544499437096e+45, 1.359001543461066e+46, 2.63635671483193e+46, 5.114325852889307e+46, 9.921392193392708e+46, 1.9246724961708113e+47, 3.73371412530527e+47, 7.2431134113670514e+47, 1.4051073576940196e+48, 2.7257983887804942e+48, 5.2878357056445704e+48, 1.0257987738557327e+49, 1.9899693996178287e+49, 3.860385011507402e+49, 7.488845024417477e+49, 1.4527773689040196e+50, 2.8182744825379226e+50, 5.467232095524984e+50, 1.0606002705393455e+51, 2.057481581564568e+51, 3.991353364755147e+51, 7.742913387456877e+51, 1.5020646444150846e+52, 2.9138879425627307e+52, 5.652714730609234e+52, 1.0965824511955716e+53, 2.127284198083859e+53, 4.126764981952291e+53, 8.005601335076685e+53, 1.553024051926069e+54, 3.0127452078998192e+54, 5.84449009432045e+54, 1.1337853719937174e+55, 2.1994549550116e+55, 4.2667706063435465e+55, 8.27720129738291e+55, 1.6057123205906161e+56, 3.1149563286707976e+56, 6.042771675288196e+56, 1.1722504480583488e+57, 2.2740741944506133e+57, 4.411526095325326e+57, 8.558015625535895e+57, 1.6601881041693234e+58, 3.220635088584269e+58, 6.247780205008806e+58, 1.2120204995735426e+59, 2.3512249842093014e+59, 4.561192593949668e+59, 8.848356928334398e+59, 1.7165120463244225e+60, 3.329899131602373e+60, 6.45974390356859e+60, 1.25313979945127e+61, 2.430993210274556e+61, 4.715936714314529e+61, 9.148548420218715e+61, 1.7747468481296561e+62, 3.442870092904692e+62, 6.678898733703569e+62, 1.2956541226169929e+63, 2.5134676724219906e+63, 4.87593072104008e+63, 9.458924281080168e+63, 1.834957337870522e+64, 3.559673734295257e+64, 6.905488663478482e+64, 1.339610796967341e+65, 2.598740183069835e+65, 5.041352723037579e+65, 9.779830028277754e+65, 1.897210543212577e+66, 3.680440084203412e+66, 7.139765937877483e+66, 1.3850587560565795e+67, 2.6869056694865627e+67, 5.2123868717841695e+67, 1.0111622901275729e+68, 1.9615757658181268e+68, 3.805303582434344e+68, 7.381991359608926e+68, 1.4320485935705503e+69, 2.7780622794660597e+69, 5.38922356632442e+69, 1.0454672259330589e+70, 2.028124658494394e+70, 3.9344032298305375e+70, 7.632434579436761e+70, 1.4806326196486748e+71, 2.872311490587946e+71, 5.572059665226849e+71, 1.0809359992670097e+72, 2.0969313049590233e+72, 4.067882743010577e+72, 7.891374396361819e+72, 1.5308649191167947e+73, 2.969758223184697e+73, 5.761098705731251e+73, 1.1176080947622006e+74, 2.1680723023117422e+74, 4.205890714357703e+74, 8.159099067987081e+74, 1.5828014116955953e+75, 3.0705109571412956e+75, 5.9565511303309155e+75, 1.1555243366165839e+76, 2.2416268463039586e+76, 4.348580777436229e+76, 8.435906631412521e+76, 1.636499914251698e+77, 3.174681852657471e+77, 6.158634521041933e+77, 1.1947269340397014e+78, 2.3176768195012473e+78, 4.4961117780198265e+78, 8.722105235016662e+78, 1.6920202051606926e+79, 3.2823868751069485e+79, 6.367573841620369e+79, 1.235259528240922e+80, 2.396306882436865e+80, 4.6486479509222035e+80, 9.018013481494284e+80, 1.7494240908537605e+81, 3.3937459241327098e+81, 6.583601687996966e+81, 1.2771672410118107e+82, 2.4776045678577397e+82, 4.8063591028269805e+82, 9.323960782532028e+82, 1.8087754746219767e+83, 3.508882967121936e+83, 6.806958547208097e+83, 1.3204967249567197e+84, 2.5616603781678895e+84, 4.969420801320299e+84, 9.640287725516898e+84, 1.8701404277548863e+85, 3.627926177209305e+85, 7.037893065111367e+85, 1.3652962154275133e+86, 2.6485678861777296e+86, 5.138014570336583e+86, 9.967346452685762e+86, 1.9335872630925488e+87, 3.751008075962184e+87, 7.276662323183746e+87, 1.4116155842202377e+88, 2.7384238392714055e+88, 5.3123280922350395e+88, 1.0305501053137969e+89, 1.9991866110729093e+89, 3.878265680906599e+89, 7.523532124710394e+89, 1.4595063950935248e+90, 2.8313282671081726e+90, 5.492555416731895e+90, 1.0655127968147492e+91, 2.0670114983591935e+91, 4.009840658058227e+91, 7.778777290682857e+91, 1.5090219611705247e+92, 2.927384592977642e+92, 5.678897176920855e+92, 1.1016616410225803e+93, 2.1371374291348253e+93, 4.145879479628166e+93, 8.04268196573594e+93, 1.5602174042882592e+94, 3.02669974893287e+94, 5.87156081262235e+94, 1.13903687964019e+95, 2.2096424691563666e+95, 4.286533587079094e+95, 8.315539934463896e+95, 1.6131497163604955e+96, 3.1293842948295762e+96, 6.07076080131023e+96, 1.1776801196202028e+97, 2.284607332658073e+97, 4.431959559713282e+97, 8.597654948467983e+97, 1.6678778228224213e+98, 3.235552541403807e+98, 6.276718896872847e+98, 1.2176343794827527e+99, 2.362115472204784e+99, 4.582319288980174e+99, 8.889341064499572e+99, 1.7244626482277474e+100, 3.3453226775252142e+100, 6.489664376474488e+100, 1.258944137204671e+101, 2.4422531715931854e+101, 4.7377801586976143e+101, 9.190922994075151e+101, 1.7829671840712947e+102, 3.45881690176756e+102, 6.709834295791815e+102, 1.301655379733357e+103, 2.5251096419048718e+103, 4.898515231387207e+103, 9.50273646495246e+103, 1.8434565589125373e+104, 3.5761615584428976e+104, 6.937473752909575e+104, 1.3458156541804845e+105, 2.6107771208181066e+105, 5.064703440931427e+105, 9.825128594870118e+105, 1.9059981108781655e+106, 3.697487278250893e+106, 7.172836161169261e+106, 1.3914741207525057e+107, 2.69935097528888e+107, 5.2365297917668166e+107, 1.0158458277966916e+108, 1.9706614626244057e+108, 3.8229291236998525e+108, 7.416183531274546e+108, 1.4386816074769047e+109, 2.790929807715554e+109, 5.4141855648350684e+109, 1.0503096584310805e+110, 2.0375185988425163e+110, 3.9526267394613185e+110, 7.667786762967442e+110, 1.4874906667850838e+111, 2.885615565705224e+111, 5.59786853052125e+111, 1.085942717298233e+112, 2.106643946393759e+112, 4.0867245078256446e+112, 7.927925946599942e+112, 1.5379556340149078e+113, 2.9835136555641128e+113, 5.7877831688162076e+113, 1.1227846719172602e+114, 2.1781144571630394e+114, 4.2253717094316103e+114, 8.196890674936919e+114, 1.5901326878980306e+115, 3.084733059638217e+115, 5.984140896948322e+115, 1.1608765355770946e+116, 2.252009693723488e+116, 4.3687226894489545e+116, 8.474980365537253e+116, 1.6440799130993052e+117, 3.189386457634894e+117, 6.187160304737847e+117, 1.200260712993406e+118, 2.3284119179072736e+118, 4.516937029398889e+118, 8.762504594072152e+118, 1.699857364877935e+119, 3.297590352060436e+119, 6.397067397936024e+119, 1.240981047514477e+120, 2.4074061823813395e+120, 4.670179724803803e+120, 9.059783438951752e+120, 1.7575271359423475e+121, 3.409465197913278e+121, 6.614095849819729e+121, 1.2830828699286024e+122, 2.489080425329923e+122, 4.8286213688639945e+122, 9.367147837643531e+122, 1.8171534255731626e+123, 3.525135536777184e+123, 6.838487261321816e+123, 1.326613048927335e+124, 2.573525568349315e+124, 4.992438342365832e+124, 9.684939955079324e+124, 1.8788026110912873e+125, 3.644730135463735e+125, 7.070491429986654e+125, 1.3716200432807644e+126, 2.660835617663814e+126, 5.161813010032782e+126, 1.0013513564561011e+127, 1.9425433217506374e+127, 3.7683821293584374e+127, 7.310366628050394e+127, 1.4181539557829095e+128, 2.7511077687755752e+128, 5.336933923537933e+128, 1.0353234441588874e+129, 2.0084465151377497e+129, 3.896229170629996e+129, 7.558379889955369e+129, 1.4662665890272638e+130, 2.8444425146647983e+130, 5.517996031403913e+130, 1.0704480771051027e+131, 2.0765855561633607e+131, 4.028413581467808e+131, 7.81480730961882e+131, 1.5160115030746067e+132, 2.940943757660779e+132, 5.705200896023975e+132, 1.106764356822738e+133, 2.147036298733872e+133, 4.165082512518203e+133, 8.079934347786843e+133, 1.56744407507726e+134, 3.0407189251083005e+134, 5.898756918045732e+134, 1.1443127114076515e+135, 2.219877170193606e+135, 4.306388106695829e+135, 8.354056149815668e+135, 1.6206215609261734e+136, 3.1438790889581644e+136, 6.098879568367463e+136, 1.1831349405290403e+137, 2.2951892586318985e+137, 4.452487668552581e+137, 8.63747787423411e+137, 1.675603158989471e+138, 3.2505390894149774e+138, 6.305791628005134e+138, 1.2232742619617608e+139, 2.373056403152167e+139, 4.6035438393925234e+139, 8.930515032452816e+139, 1.7324500760133957e+140, 3.360817662779832e+140, 6.519723436097184e+140, 1.2647753596973263e+141, 2.4535652872034714e+141, 4.75972477832783e+141, 9.233493839998712e+141, 1.791225595259028e+142, 3.4748375736302066e+142, 6.740913146323248e+142, 1.3076844336871243e+143, 2.536805535078485e+143, 4.921204349477308e+143, 9.546751579665358e+143, 1.8519951469506293e+144, 3.592725751484265e+144, 6.96960699202214e+144, 1.3520492512732402e+145, 2.622869811685249e+145, 5.088162315515772e+145, 9.870636976983745e+145, 1.914826381114034e+146, 3.7146134321016183e+146, 7.206059560304352e+146, 1.3979192003641362e+147, 2.711853925703839e+147, 5.260784537789947e+147, 1.0205510588431383e+148, 1.9797892428861853e+148, 3.840636303577935e+148, 7.450534075464095e+148, 1.4453453444143628e+149, 2.8038569362427206e+149, 5.4392631832234175e+149, 1.0551745202811812e+150, 2.046956050379605e+150, 3.9709346573959356e+150, 7.703302692006487e+150, 1.4943804792695578e+151, 2.898981263113572e+151, 5.623796938241199e+151, 1.090972625625145e+152, 2.1164015751885506e+152, 4.1056535446010373e+152, 7.96464679761606e+152, 1.5450791919399503e+153, 2.9973328008473146e+153, 5.8145912299519e+153, 1.127985226127574e+154, 2.1882031256264263e+154, 4.2449429372754183e+154, 8.234857326403795e+154, 1.5974979213678503e+155, 3.0990210365782677e+155, 6.011858454833759e+155, 1.1662535250442223e+156, 2.262440632787132e+156, 4.388957895490301e+156, 8.51423508278154e+156, 1.6516950212567408e+157, 3.2041591719276983e+157, 6.21581821517917e+157, 1.205820123502434e+158, 2.339196739526133e+158, 4.537858739922289e+158, 8.80309107632417e+158, 1.7077308250319258e+159, 3.312864249022369e+159, 6.426697563560919e+159, 1.2467290679256842e+160, 2.418556892460362e+160, 4.691811230325943e+160, 9.101746867992448e+160, 1.7656677130050527e+161, 3.4252572807884846e+161, 6.64473125559212e+161, 1.2890258990670348e+162, 2.500609437089279e+162, 4.850986750061246e+162, 9.410534928101848e+162, 1.825570181817271e+163, 3.541463385665971e+163, 6.870162011261464e+163, 1.332757702706118e+164, 2.585445716143081e+164, 5.015562496881396e+164, 9.729799006435997e+164, 1.8875049162383423e+165, 3.661611926893145e+165, 7.1032407851345315e+165, 1.3779731620660915e+166, 2.6731601712674604e+166, 5.185721680193326e+166, 1.0059894514916609e+167, 1.951540863401609e+167, 3.7858366565167406e+167, 7.344227045722046e+167, 1.4247226120088856e+168, 2.763850448158169e+168, 5.361653725010488e+168, 1.0401188923255977e+169, 2.017749309557498e+169, 3.914275864287708e+169, 7.593389064326029e+169, 1.4730580950691015e+170, 2.8576175052623937e+170, 5.543554482825064e+170, 1.0754062168032554e+171, 2.0862039594309608e+171, 4.047072531608452e+171, 7.851004213685398e+171, 1.5230334193889198e+172, 2.9545657261679528e+172, 5.731626449634206e+172, 1.1118907075644781e+173, 2.1569810182712392e+173, 4.1843744907029264e+173, 8.117359276753564e+173, 1.5747042186185421e+174, 3.054803035805452e+174, 5.92607899136311e+174, 1.1496129799614277e+175, 2.230159276685238e+175, 4.326334589186789e+175, 8.392750765951571e+175, 1.6281280138488035e+176, 3.1584410205927313e+176, 6.127128576935874e+176, 1.188615027272503e+177, 2.3058201983490056e+177, 4.473110860220775e+177, 8.677485253252417e+177, 1.6833642776449465e+178, 3.2655950526553576e+178, 6.334999019253526e+178, 1.228940267450197e+179, 2.3840480106949146e+179, 4.624866698436759e+179, 8.971879711463795e+179, 1.7404745002528064e+180, 3.3763844182614716e+180, 6.5499217243475785e+180, 1.2706335914549299e+181, 2.4649297986755255e+181, 4.781771041832308e+181, 9.276261867089359e+181, 1.7995222580511394e+182, 3.490932450613917e+182, 6.772135948986393e+182, 1.3137414132286795e+183, 2.548555601708515e+183, 4.943998559836265e+183, 9.590970565161196e+183, 1.8605732843262585e+184, 3.609366667147538e+184, 7.001889067021181e+184, 1.3583117213640167e+185, 2.6350185139105642e+185, 5.111729847754651e+185, 9.916356146449687e+185, 1.9236955424478135e+186, 3.731818911484434e+186, 7.239436844768111e+186, 1.4043941325260805e+187, 2.7244147877318175e+187, 5.285151627813402e+187, 1.0252780837470735e+188, 1.9889593015271257e+188, 3.858425500205246e+188, 7.485043725733088e+188, 1.4520399466869607e+189, 2.8168439411062634e+189, 5.464456957021756e+189, 1.0600619153724374e+190, 2.056437214642345e+190, 3.989327374599803e+190, 7.738983124996227e+190, 1.5013022042339797e+191, 2.9124088682373305e+191, 5.649845442087625e+191, 1.0960258316613899e+192, 2.1262043997174732e+192, 4.1246702575661503e+192, 8.001537733583596e+192, 1.5522357450154373e+193, 3.011215954142016e+193, 5.841523461624217e+193, 1.1332098684509292e+194, 2.198338523145324e+194, 4.264604815832514e+194, 8.272999833165182e+194, 1.6048972693895476e+195, 3.113375193081066e+195, 6.039704395895388e+195, 1.1716554198435245e+196, 2.2729198862474963e+196, 4.4092868276829016e+196, 8.55367162142949e+196, 1.6593454013445718e+197, 3.2190003110070577e+197, 6.244608864355314e+197, 1.2114052842879482e+198, 2.3500315146675969e+198, 4.5588773563729697e+198, 8.843865548496659e+198, 1.7156407537603289e+199, 3.3282088921666716e+199, 6.45646497124697e+199, 1.2525037122234684e+200, 2.4297592507972465e+200, 4.71354292942923e+200, 9.143904664745007e+200, 1.7738459958838246e+201, 3.441122509998109e+201, 6.675508559532935e+201, 1.2949964553404403e+202, 2.5121918493377536e+202, 4.873455724031246e+202, 9.454122980437923e+202, 1.834025923094062e+203, 3.5578668624693736e+203, 6.901983473441035e+203, 1.3389308175120985e+204, 2.5974210761038405e+204, 5.038793758683113e+204, 9.77486583755158e+204, 1.896247529033702e+205, 3.6785719120080377e+205, 7.136141829917174e+205, 1.38435570745429e+206, 2.685541810179396e+206, 5.209741091387641e+206, 1.0106490294217328e+207, 1.9605800801878852e+207, 3.803372030178371e+207, 7.37824429928762e+207, 1.4313216931717637e+208, 2.7766521495389975e+208, 5.386488024543851e+208, 1.0449365522206848e+209, 2.027095192993244e+209, 3.9324061472667244e+209, 7.628560395442988e+209, 1.4798810582515883e+210, 2.870853520252774e+210, 5.569231316795862e+210, 1.08038732179024e+211, 2.095866913562915e+211, 4.065817906941883e+211, 7.887368775867192e+211, 1.5300878600664292e+212, 2.9682507893961863e+212, 5.75817440206903e+212, 1.1170408027209811e+213, 2.1669718001163363e+213, 4.2037558261623857e+213, 8.154957551845164e+213, 1.5819979899524136e+214, 3.068952381790394e+214, 5.953527616037135e+214, 1.1549377984887097e+215, 2.2404890082055645e+215, 4.346373460508945e+215, 8.431624609194806e+215, 1.6356692354286265e+216, 3.1730704007031976e+216, 6.155508430272783e+216, 1.1941204968777953e+217, 2.316500378833016e+217, 4.493829575125934e+217, 8.71767793988012e+217, 1.691161344527461e+218, 3.280720752644897e+218, 6.364341694341587e+218, 1.2346325169455526e+219, 2.3950905295586973e+219, 4.64628832146233e+219, 9.013435984874815e+219, 1.748536092307479e+220, 3.392023276398044e+220, 6.58025988610982e+220, 1.2765189575799627e+221, 2.476346948698372e+221, 4.8039194200087765e+221, 9.31922798865789e+221, 1.807857349622779e+222, 3.5071018764246255e+222, 6.803503370543893e+222, 1.3198264477047602e+223, 2.560360092717511e+223, 4.966898349234212e+223, 9.635394365735963e+223, 1.869191154225461e+224, 3.6260846607992946e+224, 7.034320667290069e+224, 1.3646031981877932e+225, 2.647223486929455e+225, 5.1354065409324525e+225, 9.962287079600326e+225, 1.9326057842803425e+226, 3.7491040838221614e+226, 7.272968727332088e+226, 1.4108990555104463e+227, 2.737033829609891e+227, 5.309631582196147e+227, 1.0300270034540628e+228, 1.99817183437373e+228, 3.876297093469882e+228, 7.519713219034756e+228, 1.4587655572578576e+229, 2.829891099643532e+229, 5.489767424242863e+229, 1.0649719480751192e+230, 2.0659622941008935e+230, 4.007805283849192e+230, 7.77482882389192e+230, 1.5082559894917078e+231, 2.9258986678228587e+231, 5.676014598326013e+231, 1.1011024433181257e+232, 2.1360526293197303e+232, 4.1437750528226695e+232, 8.038599542308063e+232, 1.5594254460694716e+233, 3.025163411922799e+233, 5.868580438970656e+233, 1.1384587104595031e+234, 2.2085208661610293e+234, 4.284357764982085e+234, 8.311319009753886e+234, 1.6123308899761131e+235, 3.127795835679447e+235, 6.067679314782979e+235, 1.1770823353324025e+236, 2.283447677888917e+236, 4.4297099201508685e+236, 8.59329082364792e+236, 1.6670312167365713e+237, 3.233910191805317e+237, 6.273532867090238e+237, 1.217016314620984e+238, 2.3609164747081526e+238, 4.5799933276032226e+238, 8.88482888132799e+238, 1.7235873199795772e+239, 3.3436246091780146e+239, 6.486370256676822e+239, 1.2583051037252882e+240, 2.441013496618215e+240, 4.735375286193826e+240, 9.186257729488678e+240, 1.7820621592257976e+241, 3.457061224343941e+241, 6.706428418891157e+241, 1.3009946662499808e+242, 2.5238279094176196e+242, 4.896028770598662e+242, 9.497912925474094e+242, 1.8425208299757886e+243, 3.574346317483435e+243, 6.93395232740749e+243, 1.3451325251720681e+244, 2.609451903965262e+244, 5.062132623874295e+244, 9.820141410827699e+244, 1.9050306361757551e+245, 3.695610452988702e+245, 7.169195266936025e+245, 1.3907678157445415e+246, 2.697980798809372e+246, 5.2338717565499745e+246, 1.015330189751548e+247, 1.9696611651418318e+247, 3.820988624811017e+247, 7.412419115185159e+247, 1.4379513401948392e+248, 2.7895131462982334e+248, 5.41143735247419e+248, 1.049776526725215e+249, 2.0364843650262192e+249, 3.950620406739017e+249, 7.663894634389608e+249, 1.4867356242790228e+250, 2.884150842290881e+250, 5.5950270816447847e+250, 1.0853914984374928e+251, 2.105574624911493e+251, 4.084650107775366e+251, 7.923901772728974e+251, 1.5371749757546268e+252, 2.9819992395898406e+252, 5.7848453202596464e+252, 1.1222147522724644e+253, 2.177008857622183e+253, 4.223226932784758e+253, 8.192729975972335e+253, 1.5893255448372704e+254, 3.083167265222234e+254, 5.981103378232848e+254, 1.1602872807009317e+255, 2.2508665853458724e+255, 4.36650514859214e+255, 8.470678509695807e+255, 1.643245386708336e+256, 3.187767541699795e+256, 6.184019734429605e+256, 1.1996514669141535e+257, 2.327230028159058e+257, 4.5146442557159665e+257, 8.758056792431574e+257, 1.6989945261432926e+258, 3.295916512392752e+258, 6.393820279881817e+258, 1.2403511320057538e+259, 2.4061841955563856e+259, 4.667809165927761e+259, 9.055184740119638e+259, 1.7566350243326236e+260, 3.407734571157194e+260, 6.610738569255018e+260, 1.2824315837543554e+261, 2.487816981085128e+261, 4.826170385835605e+261, 9.362393122245353e+261, 1.8162310479697368e+262, 3.5233461963602404e+262, 6.835016080846695e+262, 1.3259396670612117e+263, 2.5722192601902557e+263, 4.9899042066959026e+263, 9.680023930059441e+263, 1.8778489406827576e+264, 3.6428800894521154e+264, 7.066902485405284e+264, 1.3709238160989943e+265, 2.659484991378995e+265, 5.1591929006647365e+265, 1.0008430757290274e+266, 1.9415572968897473e+266, 3.7664693182394893e+266, 7.306655924069292e+266, 1.4174341082297992e+267, 2.749711320817567e+267, 5.33422492370734e+267, 1.0347979193772395e+268, 2.007427038159542e+268, 3.894251465019544e+268, 7.55454329573577e+268, 1.4655223197523996e+269, 2.842998690476463e+269, 5.515195125391508e+269, 1.0699047232429274e+270, 2.0755314921632362e+270, 4.026368779739686e+270, 7.810840554178125e+270, 1.5152419835407634e+271, 2.939450949944697e+271, 5.702304965798453e+271, 1.1062025690063446e+272, 2.145946474304176e+272, 4.1629683383533244e+272, 8.075833015244052e+272, 1.5666484486380576e+273, 3.0391754720374943e+273, 5.895762739792717e+273, 1.1437318642422666e+274, 2.2187503721173834e+274, 4.304202206548182e+274, 8.349815674475574e+274, 1.6197989418724463e+275, 3.142283272326114e+275, 6.095783808900682e+275, 1.182534387402589e+276, 2.2940242325322966e+276, 4.450227609029162e+276, 8.633093535504573e+276, 1.6747526315632653e+277, 3.2488891327228656e+277, 6.302590841055796e+277, 1.222653334325053e+278, 2.3718518520960387e+278, 4.601207104544454e+278, 8.925981949589797e+278, 1.731570693388533e+279, 3.3591117292589187e+279, 6.516414058477591e+279, 1.2641333663198117e+280, 2.4523198702576033e+280, 4.75730876684955e+280, 9.228806966672826e+280, 1.7903163784870736e+281, 3.473073764197089e+281, 6.737491493960117e+281, 1.3070206598873988e+282, 2.5355178658168463e+282, 4.91870637181073e+282, 9.541905698344276e+282, 1.8510550838711138e+283, 3.59090210262679e+283, 6.9660692558554415e+283, 1.3513629581234448e+284, 2.6215384566455792e+284, 5.0855795908562234e+284, 9.865626693123856e+284, 1.9138544252276894e+285, 3.7127279136930373e+285, 7.202401802046954e+285, 1.3972096238673676e+286, 2.710477402791894e+286, 5.2581141909904975e+286, 1.02003303244725e+287, 1.978784312189947e+287, 3.8386868166169266e+287, 7.446752223217595e+287, 1.4446116946541748e+288, 2.802433713082369e+288, 5.436502241594213e+288, 1.0546389191968089e+289, 2.04591702616212e+289, 3.968919031669961e+289, 7.69939253572827e+289, 1.493621939530607e+290, 2.8975097553409212e+290, 5.620942328240188e+290, 1.0904188536091677e+291, 2.115327300784792e+291, 4.103569536270402e+291, 7.960603984432597e+291, 1.5442949177988151e+292, 2.995811370346959e+292, 5.811639773763302e+292, 1.1274126667085821e+293, 2.18709240513007e+293, 4.242788226375378e+293, 8.23067735576492e+293, 1.596687039752992e+294, 3.097447989659704e+294, 6.008806866830441e+294, 1.165661540836247e+295, 2.261292229719246e+295, 4.386730083348423e+295, 8.50991330145032e+295, 1.650856629476583e+296, 3.202532757439859e+296, 6.2126630982650374e+296, 1.2052080554953978e+297, 2.3380093754587058e+297, 4.5355553464882053e+297, 8.798622673196838e+297, 1.7068639897699647e+298, 3.3111826564042335e+298, 6.423435405389157e+298, 1.2460962347517757e+299, 2.417329245593121e+299, 4.68942969141051e+299, 9.097126868742588e+299, 1.7647714692808637e+300, 3.423518638053485e+300, 6.641358424655197e+300, 1.2883715962421897e+301, 2.499340140778241e+301, 4.848524414481996e+301, 9.405758189642814e+301, 1.8246435319122686e+302, 3.539665757318084e+302, 6.866674752848448e+302, 1.3320812018457815e+303, 2.5841333573791652e+303, 5.013016623511224e+303, 9.724860211195579e+303, 1.886546828585101e+304, 3.6597533117722334e+304, 7.099635217151274e+304, 1.3772737100743559e+305, 2.6718032891035006e+305, 5.183089434908981e+305, 1.0054788164917345e+306, inf, inf, inf, inf, inf, inf, inf, inf, inf, inf, inf, inf, inf, inf, inf, inf, inf, inf, inf, inf, inf, inf, inf, inf, inf, inf, inf, inf, inf, inf, inf, inf, inf, inf, inf, inf, inf, inf, inf, inf, inf, inf, inf, inf, inf, inf, inf, inf, inf, inf, inf, inf, inf, inf, inf, inf, inf, inf, inf, inf, inf, inf, inf, inf, inf, inf, inf, inf, inf, inf, inf, inf, inf, inf, inf, inf, inf, inf, inf, inf, inf, inf, inf, inf, inf, inf, inf, inf, inf, inf, inf, inf, inf, inf, inf, inf, inf, inf, inf, inf, inf, inf, inf, inf, inf, inf, inf, inf, inf, inf, inf, inf, inf, inf, inf, inf, inf, inf, inf, inf, inf, inf, inf, inf, inf, inf, inf, inf, inf, inf, inf, inf, inf, inf, inf, inf, inf, inf, inf, inf, inf, inf, inf, inf, inf, inf, inf, inf, inf, inf, inf, inf, inf, inf, inf, inf, inf, inf, inf, inf, inf, inf, inf, inf, inf, inf, inf, inf, inf, inf, inf, inf, inf, inf, inf, inf, inf, inf, inf, inf, inf, inf, inf, inf, inf, inf, inf, inf, inf, inf, inf, inf, inf, inf, inf, inf, inf, inf, inf, inf, inf, inf, inf, inf, inf, inf, inf, inf, inf, inf, inf, inf, inf, inf, inf, inf, inf, inf, inf, inf, inf, inf, inf, inf, inf, inf, inf, inf, inf, inf, inf, inf, inf, inf, inf, inf, inf, inf, inf, inf, inf, inf, inf, inf, inf, inf, inf, inf, inf, inf, inf, inf, inf, inf, inf, inf, inf, inf, inf, inf, inf, inf, inf, inf, inf, inf, inf, inf, inf, inf, inf, inf, inf, inf, inf, inf, inf, inf, inf, inf, inf, inf, inf, inf, inf, inf, inf, inf, inf, inf, inf, inf, inf, inf, inf, inf, inf, inf, inf, inf, inf, inf, inf, inf, inf, inf, inf, inf, inf, inf, inf, inf, inf, inf, inf, inf, inf, inf, inf, inf, inf, inf, inf, inf, inf, inf, inf, inf, inf, inf, inf, inf, inf, inf, inf, inf, inf, inf, inf, inf, inf, inf, inf, inf, inf, inf, inf, inf, inf, inf, inf, inf, inf, inf, inf, inf, inf, inf, inf, inf, inf, inf, inf, inf, inf, inf, inf, inf, inf, inf, inf, inf, inf, inf, inf, inf, inf, inf, inf, inf, inf, inf, inf, inf, inf, inf, inf, inf, inf, inf, inf, inf, inf, inf, inf, inf, inf, inf, inf, inf, inf, inf, inf, inf, inf, inf, inf, inf, inf, inf, inf, inf, inf, inf, inf, inf, inf, inf, inf, inf, inf, inf, inf, inf, inf, inf, inf, inf, inf, inf, inf, inf, inf, inf, inf, inf, inf, inf, inf, inf, inf, inf, inf, inf, inf, inf, inf, inf, inf, inf, inf, inf, inf]\n"
          ]
        },
        {
          "output_type": "display_data",
          "data": {
            "text/plain": [
              "<Figure size 1440x720 with 1 Axes>"
            ],
            "image/png": "[encoded data removed]"
          },
          "metadata": {
            "needs_background": "light"
          }
        }
      ]
    },
    {
      "cell_type": "code",
      "source": [
        "print(f\"Final Coefficients predicted: {GD[1]}\")\n",
        "print(f\"Original Coefficients: {coeffs}\")"
      ],
      "metadata": {
        "id": "19fj5Y6gv4-N",
        "outputId": "74370a59-c711-41dc-8385-3885e98ad997",
        "colab": {
          "base_uri": "https://localhost:8080/"
        }
      },
      "execution_count": 336,
      "outputs": [
        {
          "output_type": "stream",
          "name": "stdout",
          "text": [
            "Final Coefficients predicted: (3.4485089643260603e+216, 5.071254264375594e+214, 5.630787008054102e+214)\n",
            "Original Coefficients: [2, -5, 4]\n"
          ]
        }
      ]
    },
    {
      "cell_type": "code",
      "source": [
        "plt.figure(figsize=(20,10))\n",
        "plt.plot(GD[3], 'b-', label = 'loss')\n",
        "plt.title('Loss over 1500 iterations')\n",
        "plt.legend(loc=\"lower right\")\n",
        "plt.xlabel('Iterations')\n",
        "plt.ylabel('MSE')\n",
        "plt.show()"
      ],
      "metadata": {
        "id": "tvt5vq4cv9JS",
        "outputId": "faea7e00-cdef-486c-8a79-baa6f961b103",
        "colab": {
          "base_uri": "https://localhost:8080/",
          "height": 621
        }
      },
      "execution_count": 337,
      "outputs": [
        {
          "output_type": "display_data",
          "data": {
            "text/plain": [
              "<Figure size 1440x720 with 1 Axes>"
            ],
            "image/png": "[encoded data removed]"
          },
          "metadata": {
            "needs_background": "light"
          }
        }
      ]
    },
    {
      "cell_type": "markdown",
      "source": [
        "*Here in the bove graph the maxima of loss function can be seen very clearly.*"
      ],
      "metadata": {
        "id": "ib46Uh1jxDrS"
      }
    }
  ]
}