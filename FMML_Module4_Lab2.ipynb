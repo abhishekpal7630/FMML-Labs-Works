{
  "nbformat": 4,
  "nbformat_minor": 0,
  "metadata": {
    "colab": {
      "provenance": [],
      "include_colab_link": true
    },
    "kernelspec": {
      "name": "python3",
      "display_name": "Python 3"
    },
    "language_info": {
      "name": "python"
    }
  },
  "cells": [
    {
      "cell_type": "markdown",
      "metadata": {
        "id": "view-in-github",
        "colab_type": "text"
      },
      "source": [
        "<a href=\"https://colab.research.google.com/github/abhishekpal7630/FMML-Labs-Works/blob/main/FMML_Module4_Lab2.ipynb\" target=\"_parent\"><img src=\"https://colab.research.google.com/assets/colab-badge.svg\" alt=\"Open In Colab\"/></a>"
      ]
    },
    {
      "cell_type": "markdown",
      "metadata": {
        "id": "QyMhDmOed0RJ"
      },
      "source": [
        "# FOUNDATIONS OF MODERN MACHINE LEARNING, IIIT Hyderabad\n",
        "# Module 4: Perceptron and Gradient Descent\n",
        "## Lab 2: Introduction to Gradient Descent\n",
        "### Module Coordinator: Jashn Arora\n",
        "\n",
        "Gradient descent is a very important algorithm to understand, as it underpins many of the more advanced algorithms used in Machine Learning and Deep Learning.\n",
        "\n",
        "A brief overview of the algorithm is\n",
        "\n",
        "\n",
        "*   start with a random initialization of the solution.\n",
        "*   incrementally change the solution by moving in the direction of negative gradient of the objective function.\n",
        "*   repeat the previous step until some convergence criteria is met.\n",
        "\n",
        "The key equation for change in weight is:\n",
        "$$w^{k+1} \\leftarrow w^k - \\eta \\Delta J$$\n",
        "\n"
      ]
    },
    {
      "cell_type": "code",
      "metadata": {
        "id": "mx5OzL5jbnkO"
      },
      "source": [
        "# Importing the required libraries\n",
        "\n",
        "import numpy as np\n",
        "import matplotlib.pyplot as plt\n",
        "import random   \n",
        "\n"
      ],
      "execution_count": 4,
      "outputs": []
    },
    {
      "cell_type": "markdown",
      "metadata": {
        "id": "hQpDHGOAh0It"
      },
      "source": [
        "We can start be choosing coefficients for a second degree polynomial equation $(a x^2 + bx + c)$ that will distribute the data we will try to model.\n",
        "\n",
        "Let's define some random x data (inputs) we hope to predict y (outputs) of."
      ]
    },
    {
      "cell_type": "code",
      "metadata": {
        "id": "WnbvlEbWcUtM"
      },
      "source": [],
      "execution_count": 2,
      "outputs": []
    },
    {
      "cell_type": "code",
      "metadata": {
        "id": "8a-Tzv5fclE2"
      },
      "source": [],
      "execution_count": 2,
      "outputs": []
    },
    {
      "cell_type": "markdown",
      "metadata": {
        "id": "bQr81EuciKhB"
      },
      "source": [
        "This is good, but we could improve on this by making things more realistic. You can add noise or **jitter** to the values so they can resemble real-world data.\n"
      ]
    },
    {
      "cell_type": "code",
      "metadata": {
        "id": "ggni_nKPdFZ5",
        "outputId": "87d43bae-bec9-432e-9523-91f83180c4c6",
        "colab": {
          "base_uri": "https://localhost:8080/",
          "height": 236
        }
      },
      "source": [
        "def eval_2nd_degree_jitter(coeffs, x, j):\n",
        "    \"\"\"\n",
        "    Function to return the noisy output of evaluating a second degree polynomial,\n",
        "    given a specific x value. Output values can be within [y − j, y + j].\n",
        "    \n",
        "    Args:\n",
        "        coeffs: List containing the coefficients a, b, and c for the polynomial.\n",
        "        x: The input x value to the polynomial.\n",
        "        j: Jitter parameter, to introduce noise to output y.\n",
        "    \n",
        "    Returns:\n",
        "        y: The corresponding jittered output y value for the second degree polynomial.\n",
        "    \n",
        "    \"\"\"\n",
        "\n",
        "    a = coeffs[0] * (x * x)\n",
        "    b = coeffs[1] * x\n",
        "    c = coeffs[2]\n",
        "    y = a + b + c\n",
        "    \n",
        "    interval = [y - j, y + j]\n",
        "    interval_min = interval[0]\n",
        "    interval_max = interval[1]\n",
        "    jit_val = random.random() * interval_max      # Generate a random number in range 0 to interval max \n",
        "    \n",
        "    while interval_min > jit_val:                 # While the random jitter value is less than the interval min,\n",
        "        jit_val = random.random() * interval_max  # it is not in the right range. Re-roll the generator until it \n",
        "                                                  # give a number greater than the interval min. \n",
        "    \n",
        "    return jit_val\n",
        "\n",
        "xs = []\n",
        "ys = []\n",
        "for x in hundred_xs:\n",
        "    y  = eval_2nd_degree_jitter(coeffs, x, 0.1)\n",
        "    xs.append(x)\n",
        "    ys.append(y)\n"
      ],
      "execution_count": 3,
      "outputs": [
        {
          "output_type": "error",
          "ename": "NameError",
          "evalue": "ignored",
          "traceback": [
            "\u001b[0;31m---------------------------------------------------------------------------\u001b[0m",
            "\u001b[0;31mNameError\u001b[0m                                 Traceback (most recent call last)",
            "\u001b[0;32m<ipython-input-3-3253ef3e6fd0>\u001b[0m in \u001b[0;36m<module>\u001b[0;34m\u001b[0m\n\u001b[1;32m     32\u001b[0m \u001b[0mxs\u001b[0m \u001b[0;34m=\u001b[0m \u001b[0;34m[\u001b[0m\u001b[0;34m]\u001b[0m\u001b[0;34m\u001b[0m\u001b[0;34m\u001b[0m\u001b[0m\n\u001b[1;32m     33\u001b[0m \u001b[0mys\u001b[0m \u001b[0;34m=\u001b[0m \u001b[0;34m[\u001b[0m\u001b[0;34m]\u001b[0m\u001b[0;34m\u001b[0m\u001b[0;34m\u001b[0m\u001b[0m\n\u001b[0;32m---> 34\u001b[0;31m \u001b[0;32mfor\u001b[0m \u001b[0mx\u001b[0m \u001b[0;32min\u001b[0m \u001b[0mhundred_xs\u001b[0m\u001b[0;34m:\u001b[0m\u001b[0;34m\u001b[0m\u001b[0;34m\u001b[0m\u001b[0m\n\u001b[0m\u001b[1;32m     35\u001b[0m     \u001b[0my\u001b[0m  \u001b[0;34m=\u001b[0m \u001b[0meval_2nd_degree_jitter\u001b[0m\u001b[0;34m(\u001b[0m\u001b[0mcoeffs\u001b[0m\u001b[0;34m,\u001b[0m \u001b[0mx\u001b[0m\u001b[0;34m,\u001b[0m \u001b[0;36m0.1\u001b[0m\u001b[0;34m)\u001b[0m\u001b[0;34m\u001b[0m\u001b[0;34m\u001b[0m\u001b[0m\n\u001b[1;32m     36\u001b[0m     \u001b[0mxs\u001b[0m\u001b[0;34m.\u001b[0m\u001b[0mappend\u001b[0m\u001b[0;34m(\u001b[0m\u001b[0mx\u001b[0m\u001b[0;34m)\u001b[0m\u001b[0;34m\u001b[0m\u001b[0;34m\u001b[0m\u001b[0m\n",
            "\u001b[0;31mNameError\u001b[0m: name 'hundred_xs' is not defined"
          ]
        }
      ]
    },
    {
      "cell_type": "code",
      "metadata": {
        "id": "LFYv43vpe5Y4"
      },
      "source": [
        "plt.figure(figsize=(12, 6))\n",
        "plt.plot(xs, ys, 'g+')\n",
        "plt.title('Original data with jitter')\n",
        "plt.show()"
      ],
      "execution_count": null,
      "outputs": []
    },
    {
      "cell_type": "markdown",
      "metadata": {
        "id": "umByA5Ghi_gt"
      },
      "source": [
        "We will now build our predictive model, and optimize it with gradient descent and we will try to get as close to these values as possible.\n",
        "\n",
        "To get a quantifiable measure of how incorrect it is, we calculate the Mean Squared Error loss for the model. This is the mean value of the sum of the squared differences between the actual and predicted outputs.\n",
        "\n",
        "$$ E = \\frac{1}{n} \\sum_{i=0}^n (y_i - \\bar{y_i})^2 $$"
      ]
    },
    {
      "cell_type": "code",
      "metadata": {
        "id": "kGo9VtQDfG6F"
      },
      "source": [],
      "execution_count": null,
      "outputs": []
    },
    {
      "cell_type": "code",
      "metadata": {
        "id": "yIRquRB3kcZA"
      },
      "source": [],
      "execution_count": null,
      "outputs": []
    },
    {
      "cell_type": "code",
      "metadata": {
        "id": "bYbwBb4Ckomw"
      },
      "source": [],
      "execution_count": null,
      "outputs": []
    },
    {
      "cell_type": "markdown",
      "metadata": {
        "id": "IEcvjxbJa8cq"
      },
      "source": [
        "We can see that the loss is quite a large number. Let’s now see if we can improve on this fairly high loss metric by optimizing the model with gradient descent.\n",
        "\n",
        "We wish to improve our model. Therefore we want to alter its coefficients $a$, $b$ and $c$ to decrease the error. Therefore we require knowledge about how each coefficient affects the error. This is achieved by calculating the partial derivative of the loss function with respect to **each** of the individual coefficients."
      ]
    },
    {
      "cell_type": "code",
      "metadata": {
        "id": "YhiloANqkSFc"
      },
      "source": [],
      "execution_count": null,
      "outputs": []
    },
    {
      "cell_type": "code",
      "metadata": {
        "id": "rN0jR2Dhkpjn"
      },
      "source": [],
      "execution_count": null,
      "outputs": []
    },
    {
      "cell_type": "code",
      "metadata": {
        "id": "5rjqrqclk4BI"
      },
      "source": [],
      "execution_count": null,
      "outputs": []
    },
    {
      "cell_type": "markdown",
      "metadata": {
        "id": "lOzSlzJIfvid"
      },
      "source": [
        "We’re almost ready. The last step will be to perform gradient descent iteratively over a number of epochs (cycles or iterations.) With every epoch we hope to see an improvement in the form of lowered loss, and better model-fitting to the original data."
      ]
    },
    {
      "cell_type": "code",
      "metadata": {
        "id": "bBkU4dRnlHKy"
      },
      "source": [],
      "execution_count": null,
      "outputs": []
    },
    {
      "cell_type": "code",
      "metadata": {
        "id": "nj6K6SXol_bi"
      },
      "source": [],
      "execution_count": null,
      "outputs": []
    },
    {
      "cell_type": "code",
      "metadata": {
        "id": "Brk2qRFlmAQM"
      },
      "source": [],
      "execution_count": null,
      "outputs": []
    },
    {
      "cell_type": "markdown",
      "metadata": {
        "id": "gS2KZ6SxfnAI"
      },
      "source": [
        "This trained model is showing vast improvements after it’s full training cycle. We can examine further by inspecting its final predicted coefficients $a$, $b$ and $c$."
      ]
    },
    {
      "cell_type": "code",
      "metadata": {
        "id": "efY8ehhvmCRz"
      },
      "source": [],
      "execution_count": null,
      "outputs": []
    },
    {
      "cell_type": "markdown",
      "metadata": {
        "id": "s8PuwB87fjP5"
      },
      "source": [
        "Not too far off! A big improvement over the initial random model. Looking at the plot of the loss reduction over training offers further insights.\n"
      ]
    },
    {
      "cell_type": "code",
      "metadata": {
        "id": "HnswAURtmFBG"
      },
      "source": [],
      "execution_count": null,
      "outputs": []
    },
    {
      "cell_type": "markdown",
      "metadata": {
        "id": "lu7fnsphdJpo"
      },
      "source": [
        "We observe that the model loss reached close to zero, to give us our more accurate coefficients. We can also see there was no major improvement in loss after about 100 epochs. An alternative strategy would be to add some kind of condition to the training step that stops training when a certain minimum loss threshold has been reached. This would prevent excessive training and potential over-fitting for the model."
      ]
    },
    {
      "cell_type": "markdown",
      "metadata": {
        "id": "V3oxAVdtePYa"
      },
      "source": [
        "# Things to try\n",
        "\n",
        "\n",
        "\n",
        "1.   Change the coefficients array and try a different polynomial instead of our $x^2$.\n",
        "2.   Increase/decrease the learning rate to see how many iterations will be take to coverge. Does it even converge on a huge learning rate?\n",
        "3. Take a degree 5 polynomial with 5 roots and try different initializations, instead of random ones. Does it converge on different values for different initializations? Why does initialization not matter in our case of $x^2$?\n",
        "4. Can you modify the algorithm to find a maxima of a function, instead of a minima?\n",
        "\n"
      ]
    },
    {
      "cell_type": "code",
      "source": [],
      "metadata": {
        "id": "NwBIE88HZlXz"
      },
      "execution_count": null,
      "outputs": []
    },
    {
      "cell_type": "markdown",
      "source": [
        "2) At a very huge learing rate it does not converge, also updated_model_loss increases significantly if learning rate is increased.\n",
        "\n",
        "1) Using the same loss functions we cannot correctly predict the values of cubic or higher degree polynomials.\n",
        "\n",
        "3) Initialization really does not mate because it can be shown that using gradient descent, no matter what we initialize as our initial coefficients , we would finally reach to the closest coefficients w.r.t original coefficients.\n",
        "\n",
        "4)maxima can be simply be found out by changing $$w^{t+1} \\leftarrow w^{t} -\\eta \\Delta J(X)$$ \n",
        "\n",
        "to\n",
        "$$w^{t+1} \\leftarrow w^{t} +\\eta \\Delta J(X)$$ \n",
        "\n"
      ],
      "metadata": {
        "id": "pxBQtUzUbm7b"
      }
    },
    {
      "cell_type": "code",
      "source": [
        "coeffs = [2, -5, 4, 5]\n"
      ],
      "metadata": {
        "id": "X2BLCpylfykL"
      },
      "execution_count": 6,
      "outputs": []
    },
    {
      "cell_type": "code",
      "source": [
        "def eval_2nd_degree(coeffs, x):\n",
        "    \"\"\"\n",
        "    Function to return the output of evaluating a second degree polynomial,\n",
        "    given a specific x value.\n",
        "    \n",
        "    Args:\n",
        "        coeffs: List containing the coefficients a,b, and c for the polynomial.\n",
        "        x: The input x value to the polynomial.\n",
        "    \n",
        "    Returns:\n",
        "        y: The corresponding output y value for the second degree polynomial.\n",
        "    \n",
        "    \"\"\"\n",
        "    a = (coeffs[0]*(x*x*x))\n",
        "    b = coeffs[1]*(x*x)\n",
        "    c = coeffs[2]*x\n",
        "    d = coeffs[3]\n",
        "    y = a+b+c+d\n",
        "    return y"
      ],
      "metadata": {
        "id": "f4RkgoXWf5q2"
      },
      "execution_count": 5,
      "outputs": []
    },
    {
      "cell_type": "code",
      "source": [
        "coeffs = [2, -5, 4, 5]\n",
        "x=3\n",
        "eval_2nd_degree(coeffs, x)\n"
      ],
      "metadata": {
        "id": "SsSv1QNuf8Rt",
        "outputId": "1e63c643-1b74-470b-d435-a15f465e1653",
        "colab": {
          "base_uri": "https://localhost:8080/"
        }
      },
      "execution_count": 7,
      "outputs": [
        {
          "output_type": "execute_result",
          "data": {
            "text/plain": [
              "26"
            ]
          },
          "metadata": {},
          "execution_count": 7
        }
      ]
    },
    {
      "cell_type": "code",
      "source": [
        "import numpy as np\n",
        "import matplotlib.pyplot as plt\n",
        "\n",
        "hundred_xs=np.random.uniform(-10,10,100)\n",
        "print(hundred_xs)\n",
        "\n",
        "x_y_pairs = []\n",
        "for x in hundred_xs:\n",
        "    y  = eval_2nd_degree(coeffs, x)\n",
        "    x_y_pairs.append((x,y))\n",
        "    \n",
        "xs = []\n",
        "ys = []\n",
        "for a,b in x_y_pairs:\n",
        "    xs.append(a)\n",
        "    ys.append(b)\n",
        "    \n",
        "plt.figure(figsize=(20,10))\n",
        "plt.plot(xs, ys, 'g+')\n",
        "plt.title('Original data')\n",
        "plt.show()"
      ],
      "metadata": {
        "id": "UOwpiUb1gHwu",
        "outputId": "ee07ae22-1cc2-4edf-d904-b224b88b82f4",
        "colab": {
          "base_uri": "https://localhost:8080/",
          "height": 1000
        }
      },
      "execution_count": 8,
      "outputs": [
        {
          "output_type": "stream",
          "name": "stdout",
          "text": [
            "[ 6.76450694e+00 -7.99049343e+00 -2.15305602e+00  3.80741738e+00\n",
            " -2.89005508e+00 -4.45243217e+00 -6.60273279e+00 -3.01208113e+00\n",
            "  8.94137309e+00  6.51786101e+00 -3.46118449e+00  9.94858841e+00\n",
            " -9.38328100e+00  6.02147842e+00 -1.00287537e+00 -9.58400656e+00\n",
            "  2.34852756e+00  7.79928226e+00  3.80538044e-01 -3.75018395e-01\n",
            " -4.64425836e+00  5.02701562e+00  4.86653251e+00  7.91785326e+00\n",
            " -2.62194170e+00  5.21600026e+00  9.85129136e-01  6.19064177e+00\n",
            " -2.48599926e+00  3.31982694e+00 -3.36883083e+00  8.45551077e+00\n",
            "  9.65546324e+00 -7.04946068e+00 -3.03934002e+00  5.94433418e+00\n",
            " -9.18573693e+00  8.08720308e+00 -2.32598933e+00  7.49491017e+00\n",
            " -1.13127349e+00 -7.46235493e+00 -5.78334421e-01 -5.37178179e+00\n",
            "  9.35128092e+00  4.68996460e+00  3.69855558e+00 -3.12954375e+00\n",
            "  3.86754117e+00  7.96808480e+00 -7.34686795e+00  3.34109922e-01\n",
            "  6.37329236e+00 -3.04513816e+00 -6.38881476e+00 -7.92317586e+00\n",
            " -4.40308035e+00 -6.08229075e+00  6.68522078e+00 -1.35192950e+00\n",
            "  3.38637887e+00 -6.53822764e+00 -3.95175411e+00  3.08994690e+00\n",
            "  9.32272238e+00 -9.28430805e+00 -7.87368076e+00 -9.74248840e+00\n",
            "  9.68223839e+00  9.11900969e+00  4.66636376e+00 -1.72218168e+00\n",
            " -1.35040506e+00  8.00728507e+00 -1.49667614e-01 -7.15433100e-01\n",
            "  7.83269601e+00 -8.45055870e+00  5.66755788e+00  4.09907700e-01\n",
            "  5.95228260e+00  1.10492315e-01 -6.62713366e+00  6.17424683e+00\n",
            "  9.04608781e+00  3.92301899e+00  7.75516940e+00  8.49172574e+00\n",
            "  8.75669941e+00 -1.31217022e-03 -2.06467443e-01 -7.60705089e+00\n",
            "  9.76667377e+00 -8.62707900e+00  6.39048417e+00  9.19059143e-01\n",
            "  3.53894371e+00 -1.03054348e+00  3.77893059e+00  9.93393349e+00]\n"
          ]
        },
        {
          "output_type": "display_data",
          "data": {
            "text/plain": [
              "<Figure size 1440x720 with 1 Axes>"
            ],
            "image/png": "[encoded data removed]"
          },
          "metadata": {
            "needs_background": "light"
          }
        }
      ]
    },
    {
      "cell_type": "code",
      "source": [
        "rand_coeffs = (random.randrange(-50, 50), random.randrange(-50, 50), random.randrange(-50,50),random.randrange(-50,50))\n",
        "\n",
        "rand_coeffs"
      ],
      "metadata": {
        "id": "1TNBjpLhgQ4t",
        "outputId": "4c7eb1b4-796c-4ff7-fb6a-b2e1b663ec62",
        "colab": {
          "base_uri": "https://localhost:8080/"
        }
      },
      "execution_count": 9,
      "outputs": [
        {
          "output_type": "execute_result",
          "data": {
            "text/plain": [
              "(17, 38, 31, -1)"
            ]
          },
          "metadata": {},
          "execution_count": 9
        }
      ]
    },
    {
      "cell_type": "code",
      "source": [
        "y_bar = eval_2nd_degree(rand_coeffs, hundred_xs)\n",
        "\n",
        "plt.figure(figsize=(20,10))\n",
        "plt.plot(xs, ys, 'g+', label = 'original')\n",
        "plt.plot(xs, y_bar, 'ro', label='prediction')\n",
        "plt.title('Original data vs first prediction')\n",
        "plt.legend(loc=\"lower right\")\n",
        "plt.show()"
      ],
      "metadata": {
        "id": "ddQ6fuTBgWAy",
        "outputId": "33564ecf-1973-4f0b-cb78-9eb7381a3e4a",
        "colab": {
          "base_uri": "https://localhost:8080/",
          "height": 607
        }
      },
      "execution_count": 10,
      "outputs": [
        {
          "output_type": "display_data",
          "data": {
            "text/plain": [
              "<Figure size 1440x720 with 1 Axes>"
            ],
            "image/png": "[encoded data removed]"
          },
          "metadata": {
            "needs_background": "light"
          }
        }
      ]
    },
    {
      "cell_type": "code",
      "source": [
        "def loss_mse(ys, y_bar):\n",
        "    \"\"\"\n",
        "    Calculates MSE loss.\n",
        "    \n",
        "    Args:\n",
        "        ys: training data labels\n",
        "        y_bar: prediction labels\n",
        "    \n",
        "    Returns: Calculated MSE loss.\n",
        "    \"\"\"\n",
        "    return sum((ys - y_bar)*(ys - y_bar)) / len(ys)\n",
        "initial_model_loss = loss_mse(ys, y_bar)\n",
        "initial_model_loss"
      ],
      "metadata": {
        "id": "Rs0s41JBgcBJ",
        "outputId": "cf150377-365d-4535-fccc-c6654762d60e",
        "colab": {
          "base_uri": "https://localhost:8080/"
        }
      },
      "execution_count": 11,
      "outputs": [
        {
          "output_type": "execute_result",
          "data": {
            "text/plain": [
              "52844287.098328084"
            ]
          },
          "metadata": {},
          "execution_count": 11
        }
      ]
    },
    {
      "cell_type": "code",
      "source": [
        "def calc_gradient_2nd_poly_for_GD(coeffs, inputs_x, outputs_y, lr): \n",
        "    \"\"\"\n",
        "    calculates the gradient for a second degree polynomial.\n",
        "    \n",
        "    Args:\n",
        "        coeffs: a,b and c, for a 2nd degree polynomial [ y = ax^2 + bx + c ]\n",
        "        inputs_x: x input datapoints\n",
        "        outputs_y: actual y output points\n",
        "        lr: learning rate\n",
        "        \n",
        "    Returns: Calculated gradients for the 2nd degree polynomial, as a tuple of its parts for a,b,c respectively.\n",
        "    \n",
        "    \"\"\"\n",
        "    a_s = []\n",
        "    b_s = []\n",
        "    c_s = []\n",
        "    d_s = []    \n",
        "    y_bars = eval_2nd_degree(coeffs, inputs_x)\n",
        "\n",
        "    for x,y,y_bar in list(zip(inputs_x, outputs_y, y_bars)):    # take tuple of (x datapoint, actual y label, predicted y label)\n",
        "        x_squared = x**2\n",
        "        x_cube=x**3        \n",
        "        partial_a = x_cube * (y - y_bar)\n",
        "        a_s.append(partial_a)\n",
        "        partial_b = x_squared * (y-y_bar)\n",
        "        b_s.append(partial_b)\n",
        "        partial_c = x*(y-y_bar)\n",
        "        c_s.append(partial_c)\n",
        "        partial_d = (y-y_bar)\n",
        "        d_s.append(partial_d)\n",
        "    \n",
        "    num = [i for i in y_bars]\n",
        "    n = len(num)\n",
        "    \n",
        "    gradient_a = (-2 / n) * sum(a_s)\n",
        "    gradient_b = (-2 / n) * sum(b_s)\n",
        "    gradient_c = (-2 / n) * sum(c_s)\n",
        "    gradient_d = (-2 / n) * sum(d_s)\n",
        "    \"\"\"\n",
        "    to make sure we don't have any negatives and safely maximise the function\n",
        "    \"\"\"\n",
        "    if gradient_a<0:\n",
        "      gradient_a=gradient_a*(-1)\n",
        "    if gradient_b <0 :\n",
        "      gradient_b=gradient_b*(-1)\n",
        "    if gradient_c<0:\n",
        "      gradient_c=gradient_c*(-1)\n",
        "    if gradient_d<0:\n",
        "      gradient_d=gradient_d*(-1)\n",
        "\n",
        "    a_new = coeffs[0] + lr * gradient_a\n",
        "    b_new = coeffs[1] + lr * gradient_b\n",
        "    c_new = coeffs[2] + lr * gradient_c\n",
        "    d_new = coeffs[3] + lr * gradient_d\n",
        "    new_model_coeffs = (a_new, b_new, c_new,d_new)\n",
        "    \n",
        "    #update with these new coeffs:\n",
        "    new_y_bar = eval_2nd_degree(new_model_coeffs, inputs_x)\n",
        "    \n",
        "    updated_model_loss = loss_mse(outputs_y, new_y_bar)\n",
        "    return updated_model_loss, new_model_coeffs, new_y_bar"
      ],
      "metadata": {
        "id": "-iTt1gM-g5Zu"
      },
      "execution_count": 12,
      "outputs": []
    },
    {
      "cell_type": "code",
      "source": [
        "def gradient_descent(epochs, lr):\n",
        "    \"\"\"\n",
        "    Perform gradient descent for a second degree polynomial.\n",
        "    \n",
        "    Args:\n",
        "        epochs: number of iterations to perform of finding new coefficients and updatingt loss. \n",
        "        lr: specified learning rate\n",
        "        \n",
        "    Returns: Tuple containing (updated_model_loss, new_model_coeffs, new_y_bar predictions, saved loss updates)\n",
        "    \n",
        "    \"\"\"\n",
        "    losses = []\n",
        "    rand_coeffs_to_test = rand_coeffs\n",
        "    for i in range(epochs):\n",
        "        loss = calc_gradient_2nd_poly_for_GD(rand_coeffs_to_test, hundred_xs, ys, lr)\n",
        "        rand_coeffs_to_test = loss[1]\n",
        "        losses.append(loss[0])\n",
        "    print(losses)\n",
        "    return loss[0], loss[1], loss[2], losses  #(updated_model_loss, new_model_coeffs, new_y_bar, saved loss updates)"
      ],
      "metadata": {
        "id": "KWDlRdteg7IW"
      },
      "execution_count": 13,
      "outputs": []
    },
    {
      "cell_type": "code",
      "source": [
        "GD = gradient_descent(4, 0.0001)\n",
        "print(GD[2])\n",
        "\n",
        "plt.figure(figsize=(20,10))\n",
        "plt.plot(xs,ys,'gx',label='original values')\n",
        "plt.plot(xs, GD[2], 'b.', label = 'final_prediction')\n",
        "plt.title('Original vs Final prediction after Gradient Descent')\n",
        "plt.legend(loc=\"lower right\")\n",
        "plt.show()"
      ],
      "metadata": {
        "id": "VInTXeyLhA0o",
        "outputId": "8be9a01a-a454-41f7-ef1c-ef7da0a462ce",
        "colab": {
          "base_uri": "https://localhost:8080/",
          "height": 1000
        }
      },
      "execution_count": 14,
      "outputs": [
        {
          "output_type": "stream",
          "name": "stdout",
          "text": [
            "[62876536319.70662, 80745750353267.44, 1.037064742497722e+17, 1.3319629751560602e+20]\n",
            "[ 8.59805525e+09 -1.40438615e+10 -2.72409860e+08  1.53987594e+09\n",
            " -6.60576008e+08 -2.42290509e+09 -7.91777277e+09 -7.48084527e+08\n",
            "  1.98307288e+10  7.69301057e+09 -1.13628731e+09  2.73045765e+10\n",
            " -2.27546627e+10  6.06867013e+09 -2.73252233e+07 -2.42480434e+10\n",
            "  3.63864622e+08  1.31687809e+10  1.80845754e+06 -1.45837194e+06\n",
            " -2.75044388e+09  3.53549956e+09  3.20839215e+09  1.37776098e+10\n",
            " -4.92849381e+08  3.94833757e+09  2.76811895e+07  6.59353134e+09\n",
            " -4.19897126e+08  1.02238182e+09 -1.04752593e+09  1.67743428e+10\n",
            "  2.49641860e+10 -9.63874440e+09 -7.68634524e+08  5.83886676e+09\n",
            " -2.13460913e+10  1.46792933e+10 -3.43714876e+08  1.16886099e+10\n",
            " -3.92601197e+07 -1.14361581e+10 -5.24671371e+06 -4.25949759e+09\n",
            "  2.26810628e+10  2.87253812e+09  1.41196571e+09 -8.39316204e+08\n",
            "  1.61372269e+09  1.40410923e+10 -1.09127029e+10  1.26884178e+06\n",
            "  7.19330159e+09 -7.73053651e+08 -7.17181842e+09 -1.36914669e+10\n",
            " -2.34306767e+09 -6.18688117e+09  8.29978783e+09 -6.71207865e+07\n",
            "  1.08484859e+09 -7.68764372e+09 -1.69272055e+09  8.25122068e+08\n",
            "  2.24741570e+10 -2.20414438e+10 -1.34361649e+10 -2.54722493e+10\n",
            "  2.51721878e+10  2.10346494e+10  2.82950751e+09 -1.39097839e+08\n",
            " -6.68932195e+07  1.42490299e+10 -1.16424611e+05 -9.91121434e+06\n",
            "  1.33384968e+10 -1.66153604e+10  5.06220690e+09  2.22101135e+06\n",
            "  5.86227133e+09  1.01590055e+05 -8.00600864e+09  6.54138802e+09\n",
            "  2.05346991e+10  1.68392440e+09  1.29469354e+10  1.69904934e+10\n",
            "  1.86287614e+10  1.14114915e+04 -2.69906238e+05 -1.21152930e+10\n",
            "  2.58356819e+10 -1.76797506e+10  7.25155712e+09  2.25750540e+07\n",
            "  1.23754361e+09 -2.96558220e+07  1.50568847e+09  2.71842328e+10]\n"
          ]
        },
        {
          "output_type": "display_data",
          "data": {
            "text/plain": [
              "<Figure size 1440x720 with 1 Axes>"
            ],
            "image/png": "[encoded data removed]"
          },
          "metadata": {
            "needs_background": "light"
          }
        }
      ]
    },
    {
      "cell_type": "code",
      "source": [
        "print(f\"Final Coefficients predicted: {GD[1]}\")\n",
        "print(f\"Original Coefficients: {coeffs}\")"
      ],
      "metadata": {
        "id": "OWQR-W3DhG9f",
        "outputId": "190cf4c3-ca5d-441b-a1c1-5b1e56aa7235",
        "colab": {
          "base_uri": "https://localhost:8080/"
        }
      },
      "execution_count": 15,
      "outputs": [
        {
          "output_type": "stream",
          "name": "stdout",
          "text": [
            "Final Coefficients predicted: (27635111.99877452, 907028.3034407975, 374118.6720834837, 11900.899611794266)\n",
            "Original Coefficients: [2, -5, 4, 5]\n"
          ]
        }
      ]
    },
    {
      "cell_type": "code",
      "source": [
        "plt.plot(GD[3],'b',label=\"Losses over 100 epochs\")"
      ],
      "metadata": {
        "id": "c_3lkR82qwpR",
        "outputId": "96a0b8c6-1ed1-4de0-dbb0-e9aace154e8c",
        "colab": {
          "base_uri": "https://localhost:8080/",
          "height": 293
        }
      },
      "execution_count": 16,
      "outputs": [
        {
          "output_type": "execute_result",
          "data": {
            "text/plain": [
              "[<matplotlib.lines.Line2D at 0x7fefbd4f5fd0>]"
            ]
          },
          "metadata": {},
          "execution_count": 16
        },
        {
          "output_type": "display_data",
          "data": {
            "text/plain": [
              "<Figure size 432x288 with 1 Axes>"
            ],
            "image/png": "[encoded data removed]"
          },
          "metadata": {
            "needs_background": "light"
          }
        }
      ]
    },
    {
      "cell_type": "code",
      "source": [
        "def eval_2nd_degree(coeffs, x):\n",
        "    \"\"\"\n",
        "    Function to return the output of evaluating a second degree polynomial,\n",
        "    given a specific x value.\n",
        "    \n",
        "    Args:\n",
        "        coeffs: List containing the coefficients a,b, and c for the polynomial.\n",
        "        x: The input x value to the polynomial.\n",
        "    \n",
        "    Returns:\n",
        "        y: The corresponding output y value for the second degree polynomial.\n",
        "    \n",
        "    \"\"\"\n",
        "    a = (coeffs[0]*(x*x))\n",
        "    b = coeffs[1]*x\n",
        "    c = coeffs[2]\n",
        "    y = a+b+c\n",
        "    return y"
      ],
      "metadata": {
        "id": "Vt2icHZzu6fp"
      },
      "execution_count": 17,
      "outputs": []
    },
    {
      "cell_type": "code",
      "source": [
        "coeffs = [2, -5, 4]\n",
        "x=3\n",
        "eval_2nd_degree(coeffs, x)"
      ],
      "metadata": {
        "id": "jqcDtczsvBsP",
        "outputId": "81f164cd-5f55-491e-80f0-656641be9120",
        "colab": {
          "base_uri": "https://localhost:8080/"
        }
      },
      "execution_count": 20,
      "outputs": [
        {
          "output_type": "execute_result",
          "data": {
            "text/plain": [
              "7"
            ]
          },
          "metadata": {},
          "execution_count": 20
        }
      ]
    },
    {
      "cell_type": "code",
      "source": [
        "import numpy as np\n",
        "import matplotlib.pyplot as plt\n",
        "\n",
        "hundred_xs=np.random.uniform(-10,10,100)\n",
        "print(hundred_xs)\n",
        "\n",
        "x_y_pairs = []\n",
        "for x in hundred_xs:\n",
        "    y  = eval_2nd_degree(coeffs, x)\n",
        "    x_y_pairs.append((x,y))\n",
        "    \n",
        "xs = []\n",
        "ys = []\n",
        "for a,b in x_y_pairs:\n",
        "    xs.append(a)\n",
        "    ys.append(b)\n",
        "    \n",
        "plt.figure(figsize=(20,10))\n",
        "plt.plot(xs, ys, 'g+')\n",
        "plt.title('Original data')\n",
        "plt.show()"
      ],
      "metadata": {
        "id": "8C2WbgEdvN0d",
        "outputId": "0e577772-b5f6-499f-ca09-d82943e288c9",
        "colab": {
          "base_uri": "https://localhost:8080/",
          "height": 902
        }
      },
      "execution_count": 21,
      "outputs": [
        {
          "output_type": "stream",
          "name": "stdout",
          "text": [
            "[-0.64636421 -9.64824343  3.81716685 -6.26644575  9.51734919  9.04660883\n",
            " -6.31209939 -8.75589939  3.05200647 -8.18710903 -0.54626912  3.82211064\n",
            " -3.80115196 -8.16764565  8.93309744  9.44561722  9.18240302  6.23369569\n",
            "  8.43871169  8.15250387 -2.87508876  2.99696884 -1.51905885  0.21504442\n",
            " -1.44852705 -0.78383931 -0.74349015  0.6793905   3.81269372  0.23738732\n",
            " -0.78640816  0.11819654 -5.35304942 -6.02336072  9.71233046 -1.65246972\n",
            " -0.82245383  7.59212229  1.7604671  -4.47429219  1.91012463  3.96593048\n",
            "  3.70076865  1.0692148  -4.48574602 -6.04652675 -9.75728983  7.26108582\n",
            " -3.13283993 -1.52590228 -2.42410126  2.19968911 -7.87099039 -0.99896144\n",
            "  5.90951587  5.67738044 -7.38029793  0.15509251  2.64570907 -4.38294049\n",
            " -9.7830071   9.28911691  4.94350118  2.28304035  2.71061133 -8.67440707\n",
            " -5.7061066  -9.56328213 -9.31522456  2.01382728  1.5506183   2.91280366\n",
            " -8.45204477  8.43058995  6.26315102 -2.17713362 -0.89669152  4.93643026\n",
            " -7.23242278  2.95013763 -1.98694429 -6.60544072  2.57095321 -2.20387848\n",
            "  2.83024953  4.34342921 -4.2025765  -0.90837181  5.87717759 -7.66546506\n",
            " -5.8096159  -6.74633535 -3.63324187  4.25714397 -0.18049591 -9.3383685\n",
            " -0.0879157   7.89310507 -7.1047402  -2.83583987]\n"
          ]
        },
        {
          "output_type": "display_data",
          "data": {
            "text/plain": [
              "<Figure size 1440x720 with 1 Axes>"
            ],
            "image/png": "[encoded data removed]"
          },
          "metadata": {
            "needs_background": "light"
          }
        }
      ]
    },
    {
      "cell_type": "code",
      "source": [
        "rand_coeffs = (random.randrange(-10, 10), random.randrange(-10, 10), random.randrange(-10,10))\n",
        "\n",
        "rand_coeffs"
      ],
      "metadata": {
        "id": "CzZq2b0TvWNP",
        "outputId": "6c6d4a0d-1138-4838-db50-f79e96100f16",
        "colab": {
          "base_uri": "https://localhost:8080/"
        }
      },
      "execution_count": 22,
      "outputs": [
        {
          "output_type": "execute_result",
          "data": {
            "text/plain": [
              "(-6, 4, -1)"
            ]
          },
          "metadata": {},
          "execution_count": 22
        }
      ]
    },
    {
      "cell_type": "code",
      "source": [
        "y_bar = eval_2nd_degree(rand_coeffs, hundred_xs)\n",
        "\n",
        "plt.figure(figsize=(20,10))\n",
        "plt.plot(xs, ys, 'g+', label = 'original')\n",
        "plt.plot(xs, y_bar, 'ro', label='prediction')\n",
        "plt.title('Original data vs first prediction')\n",
        "plt.legend(loc=\"lower right\")\n",
        "plt.show()"
      ],
      "metadata": {
        "id": "WbUCzvI4vX3q",
        "outputId": "b6645d57-0953-4a9c-e012-f3ab0ecc5902",
        "colab": {
          "base_uri": "https://localhost:8080/",
          "height": 607
        }
      },
      "execution_count": 23,
      "outputs": [
        {
          "output_type": "display_data",
          "data": {
            "text/plain": [
              "<Figure size 1440x720 with 1 Axes>"
            ],
            "image/png": "[encoded data removed]"
          },
          "metadata": {
            "needs_background": "light"
          }
        }
      ]
    },
    {
      "cell_type": "code",
      "source": [
        "def loss_mse(ys, y_bar):\n",
        "    \"\"\"\n",
        "    Calculates MSE loss.\n",
        "    \n",
        "    Args:\n",
        "        ys: training data labels\n",
        "        y_bar: prediction labels\n",
        "    \n",
        "    Returns: Calculated MSE loss.\n",
        "    \"\"\"\n",
        "    return sum((ys - y_bar)*(ys - y_bar)) / len(ys)\n",
        "  \n",
        "initial_model_loss = loss_mse(ys, y_bar)\n",
        "  \n",
        "initial_model_loss"
      ],
      "metadata": {
        "id": "j7VvfKZbvceS",
        "outputId": "b3ba0723-12bf-4711-a0d4-f9cdb1606fbd",
        "colab": {
          "base_uri": "https://localhost:8080/"
        }
      },
      "execution_count": 24,
      "outputs": [
        {
          "output_type": "execute_result",
          "data": {
            "text/plain": [
              "132402.66850834806"
            ]
          },
          "metadata": {},
          "execution_count": 24
        }
      ]
    },
    {
      "cell_type": "code",
      "source": [
        "def calc_gradient_2nd_poly_for_GD(coeffs, inputs_x, outputs_y, lr): \n",
        "    \"\"\"\n",
        "    calculates the gradient for a second degree polynomial.\n",
        "    \n",
        "    Args:\n",
        "        coeffs: a,b and c, for a 2nd degree polynomial [ y = ax^2 + bx + c ]\n",
        "        inputs_x: x input datapoints\n",
        "        outputs_y: actual y output points\n",
        "        lr: learning rate\n",
        "        \n",
        "    Returns: Calculated gradients for the 2nd degree polynomial, as a tuple of its parts for a,b,c respectively.\n",
        "    \n",
        "    \"\"\"\n",
        "    a_s = []\n",
        "    b_s = []\n",
        "    c_s = []\n",
        "        \n",
        "    y_bars = eval_2nd_degree(coeffs, inputs_x)\n",
        "\n",
        "    for x,y,y_bar in list(zip(inputs_x, outputs_y, y_bars)):    # take tuple of (x datapoint, actual y label, predicted y label)\n",
        "        x_squared = x**2        \n",
        "        partial_a = x_squared * (y - y_bar)\n",
        "        a_s.append(partial_a)\n",
        "        partial_b = x * (y-y_bar)\n",
        "        b_s.append(partial_b)\n",
        "        partial_c = (y-y_bar)\n",
        "        c_s.append(partial_c)\n",
        "    \n",
        "    num = [i for i in y_bars]\n",
        "    n = len(num)\n",
        "    \n",
        "    gradient_a = (-2 / n) * sum(a_s)\n",
        "    gradient_b = (-2 / n) * sum(b_s)\n",
        "    gradient_c = (-2 / n) * sum(c_s)\n",
        "\n",
        "    \"\"\"\n",
        "    by simply changing the sign  + from - we can find the maxima of the function, or the maxima of loss function\n",
        "    \"\"\"\n",
        "    if gradient_a<0:\n",
        "      gradient_a=gradient_a*(-1)\n",
        "    if gradient_b <0 :\n",
        "      gradient_b=gradient_b*(-1)\n",
        "    if gradient_c<0:\n",
        "      gradient_c=gradient_c*(-1)\n",
        "    \n",
        "    a_new = coeffs[0] + lr * gradient_a\n",
        "    b_new = coeffs[1] + lr * gradient_b\n",
        "    c_new = coeffs[2] + lr * gradient_c\n",
        "    \n",
        "    new_model_coeffs = (a_new, b_new, c_new)\n",
        "    \n",
        "    #update with these new coeffs:\n",
        "    new_y_bar = eval_2nd_degree(new_model_coeffs, inputs_x)\n",
        "    \n",
        "    updated_model_loss = loss_mse(outputs_y, new_y_bar)\n",
        "    return updated_model_loss, new_model_coeffs, new_y_bar\n",
        "    "
      ],
      "metadata": {
        "id": "gigIV3Qmvjv6"
      },
      "execution_count": 30,
      "outputs": []
    },
    {
      "cell_type": "code",
      "source": [
        "def gradient_descents(epochs, lr):\n",
        "    \"\"\"\n",
        "    Perform gradient descent for a second degree polynomial.\n",
        "    \n",
        "    Args:\n",
        "        epochs: number of iterations to perform of finding new coefficients and updatingt loss. \n",
        "        lr: specified learning rate\n",
        "        \n",
        "    Returns: Tuple containing (updated_model_loss, new_model_coeffs, new_y_bar predictions, saved loss updates)\n",
        "    \n",
        "    \"\"\"\n",
        "    losses = []\n",
        "    rand_coeffs_to_test = rand_coeffs\n",
        "    for i in range(epochs):\n",
        "        loss = calc_gradient_2nd_poly_for_GD(rand_coeffs_to_test, hundred_xs, ys, lr)\n",
        "        rand_coeffs_to_test = loss[1]\n",
        "        losses.append(loss[0])\n",
        "    print(losses)\n",
        "    return loss[0], loss[1], loss[2], losses  #(updated_model_loss, new_model_coeffs, new_y_bar, saved_loss_updates"
      ],
      "metadata": {
        "id": "dgNahkfsvnFo"
      },
      "execution_count": 31,
      "outputs": []
    },
    {
      "cell_type": "code",
      "source": [
        "GD = gradient_descents(1500, 0.0001)\n",
        "\n",
        "plt.figure(figsize=(20,10))\n",
        "plt.plot(xs, ys, 'g+', label = 'original')\n",
        "plt.plot(xs, GD[2], 'b.', label = 'final_prediction')\n",
        "plt.title('Original vs Final prediction after Gradient Descent')\n",
        "plt.legend(loc=\"lower right\")\n",
        "plt.show()\n"
      ],
      "metadata": {
        "id": "EkAynpr3vr4w",
        "outputId": "1053f2dc-7581-4167-8182-a260bf5fee3a",
        "colab": {
          "base_uri": "https://localhost:8080/",
          "height": 644
        }
      },
      "execution_count": 32,
      "outputs": [
        {
          "output_type": "stream",
          "name": "stdout",
          "text": [
            "[51275.24355419473, 20872.954065442274, 9492.50026298291, 5245.357985960498, 3673.41257992244, 3104.903723660418, 2912.935533569705, 2862.4294007383614, 2865.235635564052, 2888.3019587780086, 2919.2372949875326, 2953.398424091911, 2989.0475616931367, 3025.5364843691327, 3062.6255892082754, 3100.228546172747, 3138.316544957141, 3176.8823887310336, 3215.927030072889, 3255.4545225835104, 3295.470128330361, 3335.9796087143727, 3376.988959119249, 3418.5043099833356, 3460.5318902859335, 3503.0780144458317, 3546.1490780065365, 3589.751556623874, 3633.8920062993816, 3678.5770640884557, 3723.813448994196, 3769.6079629386054, 3815.9674917706575, 3862.8990062961634, 3910.409563323793, 3958.5063067253573, 4007.1964685096323, 4056.487369909638, 4106.386422483391, 4156.90112922826, 4208.03908570909, 4259.807981200234, 4312.215599841691, 4365.269821809502, 4418.978624500574, 4473.350083732142, 4528.392374956018, 4584.113774487819, 4640.522660751377, 4697.627515538458, 4755.4369252841, 4813.959582357589, 4873.204286369448, 4933.179945494501, 4993.895577811272, 5055.360312657924, 5117.583392004887, 5180.5741718444815, 5244.342123597616, 5308.896835537911, 5374.248014233333, 5440.405486005645, 5507.379198407859, 5575.17922171992, 5643.8157504628125, 5713.299104931419, 5783.639732746177, 5854.848210424015, 5926.935244968536, 5999.9116754799525, 6073.788474784738, 6148.576751085513, 6224.287749631228, 6300.932854407944, 6378.523589850498, 6457.0716225752785, 6536.588763134362, 6617.086967791315, 6698.578340318886, 6781.0751338189, 6864.589752564599, 6949.134753865647, 7034.722849956284, 7121.366909906623, 7209.079961557637, 7297.8751934799475, 7387.76595695686, 7478.76576799175, 7570.888309340339, 7664.147432567942, 7758.55716013216, 7854.131687491247, 7950.885385238478, 8048.832801262872, 8147.988662936528, 8248.367879329047, 8349.985543449124, 8452.856934513926, 8556.997520246432, 8662.422959201058, 8769.149103118063, 8877.19199930695, 8986.567893059238, 9097.293230091116, 9209.38465901612, 9322.859033848361, 9437.733416536643, 9554.025079529827, 9671.751508373864, 9790.930404340856, 9911.579687090541, 10033.71749736465, 10157.36219971448, 10282.532385262104, 10409.246874495679, 10537.524720099236, 10667.385209817347, 10798.847869355179, 10931.932465314305, 11066.659008164756, 11203.047755253678, 11341.119213851196, 11480.8941442338, 11622.393562805782, 11765.638745259193, 11910.65122977275, 12057.452820250317, 12206.065589599155, 12356.511883048808, 12508.814321510808, 12662.995804979906, 12819.07951597719, 12977.08892303576, 13137.047784229364, 13298.980150744568, 13462.910370497018, 13628.86309179229, 13796.863267031938, 13966.936156465232, 14139.107331987185, 14313.402680983503, 14489.848410222876, 14668.471049797314, 14849.297457111186, 15032.354820919332, 15217.670665415097, 15405.272854368808, 15595.18959531716, 15787.449443804531, 15982.081307676386, 16179.114451425823, 16378.57850059367, 16580.503446222818, 16784.919649367617, 16991.85784565884, 17201.34914992501, 17413.425060870675, 17628.117465812466, 17845.45864547348, 18065.48127883705, 18288.21844806009, 18513.7036434473, 18741.970768486575, 18973.054144946695, 19206.988518037728, 19443.809061635307, 19683.55138356915, 19926.25153097692, 20171.945995724258, 20420.671719891452, 20672.466101327947, 20927.3669992754, 21185.412740059957, 21446.642122854966, 21711.094425514642, 21978.809410479724, 22249.82733075599, 22524.188935966675, 22801.935478479296, 23083.108719608244, 23367.75093589396, 23655.904925459345, 23947.61401444485, 24242.92206352273, 24541.873474491855, 24844.513196953834, 25150.886735071315, 25461.04015440999, 25775.020088864836, 26092.873747671692, 26414.64892250563, 26740.39399466658, 27070.157942353926, 27403.990348030566, 27741.94140587798, 28084.06192934333, 28430.40335877952, 28781.017769179485, 29135.957878006226, 29495.277053119014, 29859.029320797705, 30227.269373865885, 30600.052579914252, 30977.434989625617, 31359.473345202347, 31746.225088897965, 32137.748371654, 32534.10206184329, 32935.34575412124, 33341.53977838634, 33752.74520885096, 34169.0238732244, 34590.43836200915, 35017.05203791151, 35448.92904536886, 35886.13432019401, 36328.73359933877, 36776.79343077792, 37230.38118351513, 37689.565057712316, 38154.41409494394, 38624.99818857791, 39101.388094284484, 39583.65544067475, 40071.87274007055, 40566.11339940716, 41066.45173127042, 41572.962965070205, 42085.72325835148, 42604.80970824542, 43130.30036306095, 43662.2742340203, 44200.8113071385, 44745.99255524995, 45297.89995018323, 45856.61647508599, 46422.22613690201, 46994.81397900227, 47574.466093971634, 48161.26963655358, 48755.31283675428, 49356.685013108785, 49965.47658611032, 50581.77909180591, 51205.685195559294, 51837.288705983505, 52476.68458904614, 53123.968982347455, 53779.23920957578, 54442.59379521931, 55114.13247973858, 55793.956234337405, 56482.16727595069, 57178.86908261339, 57884.16640901922, 58598.165302271715, 59320.97311782893, 60052.69853564567, 60793.451576514046, 61543.343618606224, 62302.48741422117, 63070.99710673773, 63848.98824777719, 64636.577814577424, 65433.88422758136, 66241.02736824263, 67058.12859705053, 67885.31077177801, 68722.69826595389, 69570.41698756382, 70428.5943979817, 71297.35953113413, 72176.84301290222, 73067.17708076212, 73968.49560366802, 74880.93410218053, 75804.62976884341, 76739.72148881156, 77686.34986073354, 78644.65721789197, 79614.78764960442, 80596.88702288829, 81591.10300439356, 82597.58508260548, 83616.48459032146, 84647.95472740517, 85692.15058382163, 86749.22916295621, 87819.34940522151, 88902.67221195523, 89999.3604696131, 91109.57907426044, 92233.49495636567, 93371.27710589918, 94523.09659774337, 95689.12661741432, 96869.54248710237, 98064.52169203288, 99274.24390715266, 100498.8910241461, 101738.64717878337, 102993.69877860777, 104264.23453096267, 105550.44547136594, 106852.52499223362, 108170.66887195807, 109505.07530434495, 110855.94492841318, 112223.48085856311, 113607.88871511612, 115009.37665523156, 116428.15540420511, 117864.43828715266, 119318.44126108596, 120790.38294738371, 122280.4846646625, 123788.97046205483, 125316.06715289611, 126862.00434882833, 128427.01449432378, 130011.33290163573, 131615.1977861788, 133238.85030234742, 134882.53457977486, 136546.4977600406, 138230.99003382993, 139936.26467855272, 141662.57809642478, 143410.18985302153, 145179.3627163049, 146970.36269613268, 148783.45908425638, 150618.9244948104, 152477.03490530237, 154358.06969810903, 156262.31170248304, 158190.0472370795, 160141.56615300605, 162117.16187740405, 164117.1314575688, 166141.77560561235, 168191.3987436784, 170266.30904971476, 172366.81850381073, 174493.24293510563, 176645.90206927617, 178825.119576611, 181031.22312067618, 183264.54440758258, 185525.41923586105, 187814.1875469518, 190131.19347631856, 192476.7854051917, 194851.3160129496, 197255.14233014866, 199688.62579220417, 202152.13229373668, 204646.03224358652, 207170.7006205076, 209726.51702954993, 212313.86575913508, 214933.13583883838, 217584.7210978819, 220269.0202243508, 222986.43682513892, 225737.3794866347, 228522.26183615567, 231341.502604141, 234195.52568711087, 237084.76021140334, 240009.6405976963, 242970.60662632767, 245968.1035034188, 249002.581927816, 252074.49815885618, 255184.31408497, 258332.49729312983, 261519.52113915712, 264745.8648188936, 268012.013440253, 271318.4580961623, 274665.69593840034, 278054.23025234917, 281484.57053266803, 284957.23255989933, 288472.7384780208, 292031.61687295506, 295634.4028520459, 299281.63812451717, 302973.87108292256, 306711.6568856019, 310495.5575401536, 314326.14198793686, 318203.9861896176, 322129.67321176897, 326103.79331453895, 330126.94404040393, 334199.7303040114, 338322.764483135, 342496.66651075176, 346722.06396825315, 350999.5921798072, 355329.8943078863, 359713.62144997006, 364151.4327364449, 368643.9954297106, 373191.9850245059, 377796.08534947806, 382456.98867000133, 387175.3957922636, 391952.01616864046, 396787.5680043671, 401682.7783655244, 406638.3832883635, 411655.1278899712, 416733.7664803073, 421875.06267561973, 427079.7895132628, 432348.72956792725, 437682.67506931064, 443082.4280212313, 448548.80032222107, 454082.61388759734, 459684.7007730481, 465355.90329973685, 471097.07418095187, 476909.07665032195, 482792.7845916078, 488749.0826701004, 494778.8664656364, 500883.0426072563, 507062.52890952415, 513318.2545105304, 519651.1600115914, 526062.197618683, 532552.3312856061, 539122.5368589314, 545773.8022247222, 552507.1274570731, 559323.5249684792, 566224.0196620611, 573209.6490856684, 580281.4635878834, 587440.5264759487, 594687.9141756482, 602024.7163931518, 609452.0362788655, 616970.9905932996, 624582.7098749809, 632288.3386104407, 640089.0354062973, 647985.9731634626, 655980.3392534987, 664073.3356971466, 672266.1793450637, 680560.1020607848, 688956.3509059456, 697456.1883277865, 706060.8923489755, 714771.7567597672, 723590.0913125358, 732517.2219187085, 741554.4908481268, 750703.2569308679, 759964.8957615566, 769340.7999061996, 778832.3791115658, 788441.060517157, 798168.28886979, 808015.5267408243, 817984.2547460762, 828075.9717684382, 838292.1951832495, 848634.4610864504, 859104.3245255408, 869703.3597334002, 880433.1603649835, 891295.3397369444, 902291.5310702084, 913423.3877355403, 924692.5835021466, 936100.8127893385, 947649.790921303, 959341.2543850148, 971176.9610913345, 983158.690639324, 995288.2445838248, 1007567.4467063372, 1019998.143289241, 1032582.2033934009, 1045321.5191391936, 1058218.0059910042, 1071273.6030452386, 1084490.2733218758, 1097870.004059626, 1111414.8070147315, 1125126.718763451, 1139007.8010082755, 1153060.1408879212, 1167285.8512911522, 1181687.071174467, 1196265.9658837118, 1211024.7274796618, 1225965.5750676068, 1241090.7551310214, 1256402.5418693398, 1271903.2375399016, 1287595.172804114, 1303480.7070778888, 1319562.2288863985, 1335842.1562232154, 1352322.9369138742, 1369007.0489839227, 1385897.0010315173, 1402995.3326046094, 1420304.614582791, 1437827.449563843, 1455566.472255064, 1473524.3498694198, 1491703.7825265764, 1510107.5036588947, 1528738.2804224154, 1547598.9141129348, 1566692.240587193, 1586021.1306892792, 1605588.4906822834, 1625397.2626852726, 1645450.4251156717, 1665750.9931370907, 1686302.0191126787, 1707106.5930640732, 1728167.8431360167, 1749488.936066691, 1771073.077663869, 1792923.5132869352, 1815043.5283348497, 1837436.4487401384, 1860105.6414689773, 1883054.515027441, 1906286.5199740038, 1929805.1494383528, 1953613.9396466229, 1977716.4704530863, 2002116.3658784237, 2026817.2946546203, 2051822.970776591, 2077137.1540606136, 2102763.6507096505, 2128706.313885641, 2154969.04428886, 2181555.790744418, 2208470.5507959984, 2235717.371306934, 2263300.349068674, 2291223.6314167785, 2319491.4168545054, 2348107.9556840863, 2377077.5506458064, 2406404.557564944, 2436093.3860067194, 2466148.499939299, 2496574.418405001, 2527375.716199766, 2558557.0245610178, 2590123.031864008, 2622078.484326758, 2654428.1867236895, 2687177.0031080623, 2720329.8575433297, 2753891.7348435116, 2787867.681322703, 2822262.80555383, 2857082.279136777, 2892331.3374759583, 2928015.280567529, 2964139.4737962754, 3000709.348742344, 3037730.403997932, 3075208.205994038, 3113148.3898374336, 3151556.660157943, 3190438.791966183, 3229800.631521885, 3269648.097212939, 3309987.1804452543, 3350823.9465436423, 3392164.5356637686, 3434015.1637153905, 3476382.1232969672, 3519271.784641809, 3562690.5965758925, 3606645.087487498, 3651141.866308809, 3696187.6235096203, 3741789.132103313, 3787953.2486652206, 3834686.9143635887, 3881997.156003231, 3929891.087082076, 3978375.9088607295, 4027458.9114452573, 4077147.4748833086, 4127449.0702737803, 4178371.2608901425, 4229921.703317646, 4282108.148604568, 4334938.4434276465, 4388420.5312718665, 4442562.453624872, 4497372.351186046, 4552858.465090536, 4609029.138148393, 4665892.816098968, 4723458.04888081, 4781733.491917221, 4840727.90741767, 4900450.165695267, 4960909.246500491, 5022114.240371379, 5084074.350000347, 5146798.891617915, 5210297.296393466, 5274579.111853314, 5339654.003316237, 5405531.755346778, 5472222.273226386, 5539735.584442816, 5608081.840197788, 5677271.316933355, 5747314.41787704, 5818221.674606033, 5890003.7486307155, 5962671.432997726, 6036235.653912756, 6110707.472383417, 6186098.085882357, 6262418.830030887, 6339681.1803033985, 6417896.753752792, 6497077.310757197, 6577234.756788263, 6658381.144201219, 6740528.674047086, 6823689.69790717, 6907876.719750247, 6993102.397812649, 7079379.546501525, 7166721.138321599, 7255140.305825692, 7344650.343589333, 7435264.710209684, 7526997.030329173, 7619861.096684087, 7713870.872178381, 7809040.491983179, 7905384.2656620685, 8002916.679322693, 8101652.39779485, 8201606.266835494, 8302793.315360899, 8405228.75770636, 8508927.995913882, 8613906.622047925, 8720180.420539841, 8827765.370561197, 8936677.64842636, 9046933.630024767, 9158549.893283173, 9271543.22065828, 9385930.60166014, 9501729.235406619, 9618956.533209508, 9737630.121192394, 9857767.842940953, 9979387.762185827, 10102508.165518729, 10227147.565141918, 10353324.701651737, 10481058.546856346, 10610368.306628352, 10741273.42379256, 10873793.581049357, 11007948.703934187, 11143758.963813527, 11281244.7809178, 11420426.827411747, 11561326.030502686, 11703963.575587058, 11848360.90943585, 11994539.743419306, 12142522.05677138, 12292330.099894572, 12443986.397705398, 12597513.75302123, 12752935.249988899, 12910274.257555582, 13069554.432982536, 13230799.725402161, 13394034.379418943, 13559282.938754868, 13726570.249939732, 13895921.466047117, 14067362.050476247, 14240917.78078073, 14416614.75254437, 14594479.383304926, 14774538.41652614, 14956818.925618889, 15141348.318011882, 15328154.33927264, 15517265.077279212, 15708708.966443507, 15902514.79198656, 16098711.694266737, 16297329.173161155, 16498397.092501247, 16701945.684563126, 16908005.554613158, 17116607.685509764, 17327783.442362014, 17541564.57724553, 17757983.233976804, 17977071.952946167, 18198863.676010627, 18423391.751446877, 18650689.93896557, 18880792.414787296, 19113733.776781306, 19349549.049667623, 19588273.69028326, 19829943.592913512, 20074595.094688915, 20322264.98104884, 20572990.491272584, 20826809.32407849, 21083759.64329237, 21343880.083585717, 21607209.756284744, 21873788.255251158, 22143655.66283538, 22416852.55590332, 22693420.011937357, 22973399.61521283, 23256833.463050533, 23543764.172146283, 23834234.884978913, 24128289.276296977, 24425971.559685577, 24727326.494214483, 25032399.391167745, 25341236.12085685, 25653883.119517636, 25970387.396292306, 26290796.540297776, 26615158.727781087, 26943522.729363017, 27275937.91737126, 27612454.273263894, 27953122.395144645, 28297993.505370595, 28647119.458254, 29000552.747858945, 29358346.51589445, 29720554.559704497, 30087231.340357207, 30458431.99083333, 30834212.324316043, 31214628.842582867, 31599738.74450137, 31989599.934629265, 32384271.031921018, 32783811.378541656, 33188281.048789367, 33597740.85812813, 34012252.37233204, 34431877.916741915, 34856680.58563677, 35286724.251720406, 35722073.57572519, 36162794.0161345, 36608951.839024775, 37060614.128029376, 37517848.79442502, 37980724.58734289, 38449311.10410573, 38923678.80069224, 39403899.002330825, 39890043.91422394, 40382186.63240478, 40880401.15472784, 41384762.39199516, 41895346.17921981, 42412229.28702828, 42935489.43320369, 43465205.29437117, 44001456.51782774, 44544323.73351785, 45093888.56615682, 45650233.647503786, 46213442.628786065, 46783600.19327697, 47360792.06902842, 47945105.04176115, 48536626.96791354, 49135446.78785148, 49741654.53924159, 50355341.370588854, 50976599.554941826, 51605522.5037665, 52242204.780991584, 52886742.11722698, 53539231.424157664, 54199770.809115335, 54868459.58982951, 55545398.30936091, 56230688.75121873, 56924433.95466506, 57626738.23020749, 58337707.17528293, 59057447.69013541, 59786067.99388923, 60523677.64082067, 61270387.536830336, 62026309.956119135, 62791558.55806922, 63566248.4043339, 64350495.97613801, 65144419.191792145, 65948137.42442217, 66761771.519918576, 67585443.8151062, 68419278.15613896, 69263399.91712095, 70117936.01895751, 70983014.94843917, 71858766.77756035, 72745323.18307695, 73642817.46630518, 74551384.57316424, 75471161.11446704, 76402285.38646048, 77344897.39161949, 78299138.85969758, 79265153.26903753, 80243085.86814378, 81233083.69752263, 82235295.61179045, 83249872.30205551, 84276966.31857555, 85316732.09369512, 86369325.96506573, 87434906.19915256, 88513633.01503111, 89605668.60847779, 90711177.17635694, 91830324.94130968, 92963280.17674676, 94110213.23214972, 95271296.55868468, 96446704.73513165, 97636614.49413393, 98841204.74877165, 100060656.61946236, 101295153.46119457, 102544880.89109632, 103810026.81634475, 105090781.46241897, 106387337.40170239, 107699889.58243792, 109028635.3580396, 110373774.5167663, 111735509.31176248, 113114044.49146752, 114509587.33040208, 115922347.66033342, 117352537.90182549, 118800373.09617807, 120266070.93776007, 121749851.80674165, 123251938.80223054, 124772557.77581653, 126311937.36553058, 127870309.03022206, 129447907.0843609, 131044968.7332688, 132661734.10878463, 134298446.30537078, 135955351.4166642, 137632698.572479, 139330739.97626477, 141049730.94302782, 142789929.93772012, 144551598.6141013, 146335001.8540808, 148140407.8075452, 149968087.9326763, 151818317.03676805, 153691373.31754553, 155587538.40499425, 157507097.40370613, 159450338.93574736, 161417555.1840547, 163409041.93636796, 165425098.62970436, 167466028.3953812, 169532138.10459435, 171623738.41455907, 173741143.8152196, 175884672.6765359, 178054647.29635292, 180251393.9488607, 182475242.93365315, 184726528.62539083, 187005589.52407706, 189312768.30595443, 191648411.87502915, 194012871.4152309, 196406502.44321656, 198829664.86182442, 201282723.01419008, 203766045.73852694, 206280006.4235851, 208824983.06479368, 211401358.32109478, 214009519.5724807, 216649858.9782384, 219322773.53591552, 222028665.14101124, 224767940.64740503, 227541011.92853105, 230348295.9393057, 233190214.7788215, 236067195.75381288, 238979671.4429056, 241928079.76165786, 244912864.02840534, 247934473.03091782, 250993361.0938783, 254089988.14719442, 257224819.7951524, 260398327.3864257, 263610988.08494544, 266863284.94164622, 270155706.9670975, 273488749.2050297, 276862912.80676824, 280278705.1065871, 283736639.6979898, 287237236.5109323, 290781021.8900001, 294368528.6735475, 298000296.273815, 301676870.75803447, 305398804.93053484, 309166658.4158607, 312980997.74291754, 316842396.430153, 320751435.0717915, 324708701.42513037, 328714790.4989148, 332770304.64280283, 336875853.63793254, 341032054.7886093, 345239533.01512194, 349498920.94770455, 353810859.0216588, 358175995.57364756, 362594986.9391792, 367068497.55129266, 371597200.0404598, 376181775.33572304, 380822912.7670763, 385521310.1691146, 390277673.9859572, 395092719.37746733, 399967170.32678473, 404901759.74918073, 409897229.6022593, 414954330.9975163, 420073824.3132749, 425256479.3090171, 430503075.2411208, 435814400.9800296, 441191255.1288655, 446634446.1435054, 452144792.4541408, 457723122.5883333, 463370275.2955935, 469087099.67349184, 474874455.2953285, 480733212.33937913, 486664251.71973073, 492668465.21873665, 498746755.62110245, 504900036.8496287, 511129234.1026257, 517435283.99302566, 523819134.6892104, 530281746.0575764, 536824089.80685824, 543447149.6342347, 550151921.3732351, 556939413.1434717, 563810645.5022186, 570766651.5978616, 577808477.3252413, 584937181.4829109, 592153835.9323382, 599459525.7590649, 606855349.4358636, 614342418.9878983, 621921860.1599299, 629594812.5855784, 637362429.9586796, 645225880.2067515, 653186345.666601, 661245023.2621006, 669403124.684155, 677661876.572889, 686022520.7020826, 694486314.1658844, 703054529.5678241, 711728455.2121608, 720509395.2975912, 729398670.1133441, 738397616.2376988, 747507586.7389534, 756729951.3788666, 766066096.8186129, 775517426.8272837, 785085362.4929503, 794771342.4363393, 804576823.0271416, 814503278.6029892, 824552201.6911361, 834725103.2328696, 845023512.8106956, 855448978.8783232, 866003068.993489, 876687370.0536522, 887503488.5345969, 898453050.7319818, 909537703.0058665, 920759112.0282545, 932118965.0336936, 943618970.0729659, 955260856.2699044, 967046374.0813886, 978977295.5605321, 991055414.6231308, 1003282547.3173952, 1015660532.0970029, 1028191230.0975318, 1040876525.4162934, 1053718325.3956246, 1066718560.9096727, 1079879186.6547189, 1093202181.4430838, 1106689548.5006602, 1120343315.7681098, 1134165536.205787, 1148158288.1024168, 1162323675.387583, 1176663827.9480743, 1191180901.948127, 1205877080.1536238, 1220754572.2602944, 1235815615.2259595, 1251062473.6068766, 1266497439.898236, 1282122834.8788536, 1297941007.9601274, 1313954337.5392847, 1330165231.3569956, 1346576126.8594012, 1363189491.5645988, 1380007823.4336581, 1397033651.2462115, 1414269534.9806712, 1431718066.199157, 1449381868.4371443, 1467263597.5979438, 1485365942.3520396, 1503691624.5413494, 1522243399.5884826, 1541024056.9110346, 1560036420.3410044, 1579283348.5493765, 1598767735.4759598, 1618492510.7644958, 1638460640.203172, 1658675126.1705484, 1679139008.086988, 1699855362.871662, 1720827305.4051917, 1742057988.9979944, 1763550605.8644166, 1785308387.6026986, 1807334605.6808867, 1829632571.928723, 1852205639.0355945, 1875057201.0546556, 1898190693.913149, 1921609595.9290142, 1945317428.3338976, 1969317755.8025959, 1993614186.989026, 2018210375.0688305, 2043110018.288655, 2068316860.5222127, 2093834691.8332076, 2119667349.0452075, 2145818716.318539, 2172292725.7342973, 2199093357.8855867, 2226224642.476016, 2253690658.925612, 2281495536.9841914, 2309643457.3523026, 2338138652.309836, 2366985406.35237, 2396188056.835392, 2425750994.626459, 2455678664.7653947, 2485975567.1326394, 2516646257.1258507, 2547695346.3448462, 2579127503.2849894, 2610947454.0391436, 2643159983.0082803, 2675769933.620856, 2708782209.061054, 2742201773.006036, 2776033650.372257, 2810282928.071012, 2844954755.773296, 2880054346.684107, 2915586978.326279, 2951557993.3340216, 2987972800.2562194, 3024836874.3696537, 3062155758.502261, 3099935063.866549, 3138180470.903274, 3176897730.1355586, 3216092663.03353, 3255771162.889626, 3295939195.7046857, 3336602801.085028, 3377768093.150511, 3419441261.4538784, 3461628571.911391, 3504336367.7449713, 3547571070.4359584, 3591339180.6906214, 3635647279.4176135, 3680502028.717461, 3725910172.884264, 3771878539.419759, 3818414040.059898, 3865523671.814073, 3913214518.0171967, 3961493749.3947268, 4010368625.1408424, 4059846494.0099473, 4109934795.421592, 4160641060.579074, 4211972913.601807, 4263938072.671676, 4316544351.193523, 4369799658.969987, 4423712003.390768, 4478289490.63665, 4533540326.898294, 4589472819.610145, 4646095378.699494, 4703416517.851012, 4761444855.786828, 4820189117.562445, 4879658135.87862, 4939860852.409436, 5000806319.146768, 5062503699.7613, 5124962270.9804, 5188191423.982926, 5252200665.81128, 5316999620.800876, 5382598032.027226, 5449005762.770914, 5516232798.000618, 5584289245.874433, 5653185339.259706, 5722931437.271662, 5793538026.83096, 5865015724.240512, 5937375276.781716, 6010627564.330421, 6084783600.992782, 6159854536.76135, 6235851659.191563, 6312786395.098916, 6390670312.27709, 6469515121.237266, 6549332676.968893, 6630134980.7221985, 6711934181.812679, 6794742579.44784, 6878572624.57648, 6963436921.760852, 7049348231.07178, 7136319470.00732, 7224363715.434983, 7313494205.557944, 7403724341.905552, 7495067691.348325, 7587537988.137866, 7681149135.971942, 7775915210.084978, 7871850459.364436, 7968969308.493229, 8067286360.118591, 8166816397.047732, 8267574384.470553, 8369575472.209765, 8472834996.998823, 8577368484.787936, 8683191653.078493, 8790320413.286375, 8898770873.134304, 9008559339.07385, 9119702318.737194, 9232216523.419203, 9346118870.59013, 9461426486.439285, 9578156708.450115, 9696327088.007027, 9815955393.0344, 9937059610.668142, 10059657949.960217, 10183768844.616514, 10309410955.768507, 10436603174.77916, 10565364626.08335, 10695714670.063421, 10827672905.960186, 10961259174.819796, 11096493562.477077, 11233396402.575554, 11371988279.624802, 11512290032.09552, 11654322755.552757, 11798107805.8278, 11943666802.229225, 12091021630.793547, 12240194447.575953, 12391207681.981653, 12544084040.138369, 12698846508.31034, 12855518356.35456, 13014123141.219532, 13174684710.487354, 13337227205.959274, 13501775067.28575, 13668353035.641052, 13836986157.443422, 14007699788.120876, 14180519595.923725, 14355471565.783947, 14532582003.222315, 14711877538.303545, 14893385129.640493, 15077132068.447468, 15263145982.643824, 15451454841.00798, 15642086957.38276, 15835070994.932678, 16030435970.453629, 16228211258.735872, 16428426596.980705, 16631112089.271755, 16836298211.101421, 17044015813.953022, 17254296129.93967, 17467170776.50024, 17682671761.153362, 17900831486.30995, 18121682754.14526, 18345258771.530933, 18571593155.027958, 18800719935.941185, 19032673565.436222, 19267488919.719467, 19505201305.282074, 19745846464.20852, 19989460579.550804, 20236080280.768814, 20485742649.237946, 20738485223.8245, 20994346006.530094, 21253363468.20555, 21515576554.335182, 21781024690.892834, 22049747790.269688, 22321786257.275513, 22597180995.213924, 22875973412.032475, 23158205426.548687, 23443919474.75298, 23733158516.189186, 24025966040.413986, 24322386073.5358, 24622463184.83467, 24926242493.463467, 25233769675.232025, 25545090969.47485, 25860253186.00364, 26179303712.145473, 26502290519.868065, 26829262172.99243, 27160267834.495262, 27495357273.90071, 27834580874.76384, 28177989642.246048, 28525635210.784313, 28877569851.85474, 29233846481.83208, 29594518669.946163, 29959640646.33647, 30329267310.206078, 30703454238.07625, 31082257692.142822, 31465734628.735752, 31853942706.882957, 32246940296.97977, 32644786489.565548, 33047541104.208378, 33455264698.499466, 33868018577.15846, 34285864801.25119, 34708866197.52107, 35137086367.83556, 35570589698.74933, 36009441371.18533, 36453707370.23524, 36903454495.0809, 37358750369.03829, 37819663449.72493, 38286263039.35345, 38758619295.15155, 39236803239.91072, 39720886772.665276, 40210942679.50285, 40707044644.508514, 41209267260.84364, 41717686041.96186, 42232377432.96291, 42753418822.08696, 43280888552.35057, 43814865933.326195, 44355431253.06713, 44902665790.17933, 45456651826.04259, 46017472657.18205, 46585212607.79258, 47159957042.41776, 47741792378.78505, 48330806100.79941, 48927086771.6973, 49530724047.36308, 50141808689.80915, 50760432580.823166, 51386688735.783104, 52020671317.64279, 52662475651.09044, 53312198236.88107, 53969936766.3467, 54635790136.08474, 55309858462.82799, 55992243098.49816, 56683046645.445045, 57382372971.87335, 58090327227.46041, 58807015859.16637, 59532546627.23933, 60267028621.41787, 61010572277.33384, 61763289393.11728, 62525293146.20601, 63296698110.363045, 64077620272.90371, 64868177052.13519, 65668487315.01154, 66478671395.0061, 67298851110.20512, 68129149781.62353, 68969692251.74785, 69820604903.30693, 70682015678.27495, 71554054097.10852, 72436851278.22108, 73330539957.6977, 74235254509.2531, 75151130964.43596, 76078307033.08244, 77016922124.0218, 77967117366.03796, 78929035629.08928, 79902821545.7903, 80888621533.1585, 81886583814.62941, 82896858442.34311, 83919597319.70602, 84954954224.23076, 86003084830.65794, 87064146734.36322, 88138299475.05301, 89225704560.75284, 90326525492.09123, 91440927786.88358, 92569079005.01903, 93711148773.6547, 94867308812.72034, 96037732960.73828, 97222597200.96094, 98422079687.83197, 99636360773.77315, 100865623036.30156, 102110051305.48224, 103369832691.71863, 104645156613.88605, 105936214827.81271, 107243201455.11194, 108566313012.36984, 109905748440.69308, 111261709135.62167, 112634398977.41035, 114024024361.68394, 115430794230.4703, 116854920103.61676, 118296616110.59401, 119756099022.69218, 121233588285.61438, 122729306052.47195, 124243477217.18727, 125776329448.30865, 127328093223.24197, 128899001862.90483, 130489291566.80888, 132099201448.57361, 133728973571.88014, 135378852986.8665, 137049087766.97375, 138739929046.24564, 140451631057.08884, 142184451168.4989, 143938649924.75784, 145714491084.6095, 147512241660.91736, 149332171960.81274, 151174555626.3373, 153039669675.58807, 154927794544.369, 156839214128.35654, 158774215825.78723, 160733090580.6687, 162716132926.52646, 164723641030.68958, 166755916739.12253, 168813265621.81052, 170895997018.7039, 173004424086.2308, 175138863844.3826, 177299637224.3803, 179487069116.92972, 181701488421.0716, 183943228093.6338, 186212625199.29474, 188510020961.2637, 190835760812.58716, 193190194448.0863, 195573675876.93848, 197986563475.90347, 200429220043.2104, 202902012853.10632, 205405313711.0792, 207939499009.7626, 210504949785.5289, 213102051775.78165, 215731195476.95435, 218392776203.22488, 221087194145.95508, 223814854433.8619, 226576167193.9322, 229371547613.08957, 232201416000.61987, 235066197851.3704, 237966323909.724, 240902230234.36755, 243874358263.85593, 246883154882.9858]\n"
          ]
        },
        {
          "output_type": "display_data",
          "data": {
            "text/plain": [
              "<Figure size 1440x720 with 1 Axes>"
            ],
            "image/png": "[encoded data removed]"
          },
          "metadata": {
            "needs_background": "light"
          }
        }
      ]
    },
    {
      "cell_type": "code",
      "source": [
        "print(f\"Final Coefficients predicted: {GD[1]}\")\n",
        "print(f\"Original Coefficients: {coeffs}\")"
      ],
      "metadata": {
        "id": "19fj5Y6gv4-N",
        "outputId": "e433228c-6baa-441c-a374-f29859ef6bd1",
        "colab": {
          "base_uri": "https://localhost:8080/"
        }
      },
      "execution_count": 33,
      "outputs": [
        {
          "output_type": "stream",
          "name": "stdout",
          "text": [
            "Final Coefficients predicted: (1051.2582490201594, 89605.33269396225, 170.35532717582836)\n",
            "Original Coefficients: [2, -5, 4]\n"
          ]
        }
      ]
    },
    {
      "cell_type": "code",
      "source": [
        "plt.figure(figsize=(20,10))\n",
        "plt.plot(GD[3], 'b-', label = 'loss')\n",
        "plt.title('Loss over 1500 iterations')\n",
        "plt.legend(loc=\"lower right\")\n",
        "plt.xlabel('Iterations')\n",
        "plt.ylabel('MSE')\n",
        "plt.show()"
      ],
      "metadata": {
        "id": "tvt5vq4cv9JS",
        "outputId": "8b957534-f9df-40df-9d29-7d418365a530",
        "colab": {
          "base_uri": "https://localhost:8080/",
          "height": 621
        }
      },
      "execution_count": 34,
      "outputs": [
        {
          "output_type": "display_data",
          "data": {
            "text/plain": [
              "<Figure size 1440x720 with 1 Axes>"
            ],
            "image/png": "[encoded data removed]"
          },
          "metadata": {
            "needs_background": "light"
          }
        }
      ]
    },
    {
      "cell_type": "markdown",
      "source": [
        "*Here in the bove graph the maxima of loss function can be seen very clearly.*"
      ],
      "metadata": {
        "id": "ib46Uh1jxDrS"
      }
    }
  ]
}